{
 "cells": [
  {
   "cell_type": "markdown",
   "metadata": {},
   "source": [
    "# Algorithms and Computer programming lab"
   ]
  },
  {
   "cell_type": "markdown",
   "metadata": {},
   "source": [
    "## Why program?\n",
    "\n",
    "- You can write programs to streamline tasks that you must repeat frequently.\n",
    "- When you write a program yourself, you understand all the symbols used by your program. For instance, an issue that frequently arises when I’m trying to learn to use a new program is, what conventions/units are being used? If a cell asks me to input a length, should my answer be entered in inches, meters, centimeters,...? If a cell asks me for a percentage, should 5% be entered as 5 or 0.05?\n",
    "- Writing a program yourself helps you avoid intellectual property and licensing issues: no one can tell you to stop using your own program or charge you for using it\n",
    "- Your program is expandable and customizable: you can add new functionality to it later if you wish\n",
    "- It's fun!"
   ]
  },
  {
   "cell_type": "markdown",
   "metadata": {},
   "source": [
    "## Why program in python?\n",
    "\n",
    "- Scripting language, no need to compile\n",
    "- Simple syntax, uses _duck typing_ (don't need to declare what variables are beforehand)\n",
    "- Fast to develop in\n",
    "- Incredibly well developed, there's a huge community of developers who have made open-source packages available that can do nearly anything\n",
    "- Can use it for sophisticated data/science work"
   ]
  },
  {
   "cell_type": "markdown",
   "metadata": {},
   "source": [
    "## Goals\n",
    "\n",
    "- Understand basic variable types in python including `Bool`, `Int`, `float`, `list`, `tuple` and `str`\n",
    "- Learn a few basic operations with `list`s\n",
    "    - creating a range of numbers\n",
    "    - accessing individual elements of a list or a range of values\n",
    "    - combining lists\n",
    "- Learn basic syntax\n",
    "    - equivalence `=`\n",
    "    - mathematical operations `+`, `-`, `*`, `/`, `**`, `%`\n",
    "    - comparisons `==`, `>`, et. \n",
    "    - `if`, `elif`, `else`\n",
    "    - `for` loops\n",
    "    - defining functions (subroutines)\n",
    "- Learn to create a functions using recursion\n",
    "    - `min_of_two`, `min_of_three`, `min_of_n`\n",
    "    - `factorial`, `nCr`\n",
    "- Learn to create a  functions using lists\n",
    "    - `move_to_front` \n",
    "- Impliment a basic sorting algorithm"
   ]
  },
  {
   "cell_type": "markdown",
   "metadata": {},
   "source": [
    "## What exactly am I looking at?\n",
    "\n",
    "You are looking at a _jupyter notebook_. It's a more interactive way of dealing with code. Each of the gray boxes are python code that can be edited by clicking inside the box and executed using `command+enter` on a mac or `ctrl+enter` on a PC (If you are using Google Colab these are `shift+enter` on both). If the last line in the box is a variable or a function that outputs a variable, the notebook will automatically print out the value of the variable or the result of the function below. \n",
    "\n",
    "The notebook uses a _Python kernel_ to exeucte the code that remembers what you've done previously. For example if you set `a = 5` in one block and then ask it `a` in the next the output will read `5`. If the kernel stalls or you just want to refresh you can do so using the command bar or menu above. \n",
    "\n",
    "This is incredibly flexible way of using code: It can be anything from a calculator, to an envirnment to develop complex code, to a statistics analysis suite, all depending on your needs"
   ]
  },
  {
   "cell_type": "markdown",
   "metadata": {},
   "source": [
    "## Basic variable types in python"
   ]
  },
  {
   "cell_type": "code",
   "execution_count": 5,
   "metadata": {},
   "outputs": [],
   "source": [
    "a = [1,2,3]"
   ]
  },
  {
   "cell_type": "markdown",
   "metadata": {},
   "source": [
    "### Bool, Integers, floats "
   ]
  },
  {
   "cell_type": "code",
   "execution_count": 8,
   "metadata": {},
   "outputs": [
    {
     "data": {
      "text/plain": [
       "[2, 1, 3]"
      ]
     },
     "execution_count": 8,
     "metadata": {},
     "output_type": "execute_result"
    }
   ],
   "source": [
    "a"
   ]
  },
  {
   "cell_type": "code",
   "execution_count": null,
   "metadata": {},
   "outputs": [],
   "source": []
  },
  {
   "cell_type": "markdown",
   "metadata": {},
   "source": [
    "### A few list operations"
   ]
  },
  {
   "cell_type": "code",
   "execution_count": null,
   "metadata": {},
   "outputs": [],
   "source": []
  },
  {
   "cell_type": "markdown",
   "metadata": {},
   "source": [
    "#### Generating lists"
   ]
  },
  {
   "cell_type": "code",
   "execution_count": null,
   "metadata": {},
   "outputs": [],
   "source": []
  },
  {
   "cell_type": "markdown",
   "metadata": {},
   "source": [
    "#### Accessing lists"
   ]
  },
  {
   "cell_type": "code",
   "execution_count": null,
   "metadata": {},
   "outputs": [],
   "source": []
  },
  {
   "cell_type": "markdown",
   "metadata": {},
   "source": [
    "#### Extending or combining lists "
   ]
  },
  {
   "cell_type": "code",
   "execution_count": null,
   "metadata": {},
   "outputs": [],
   "source": []
  },
  {
   "cell_type": "markdown",
   "metadata": {},
   "source": [
    "## Basic Syntax"
   ]
  },
  {
   "cell_type": "code",
   "execution_count": null,
   "metadata": {},
   "outputs": [],
   "source": []
  },
  {
   "cell_type": "markdown",
   "metadata": {},
   "source": [
    "### `If`, `elif`, `else`"
   ]
  },
  {
   "cell_type": "code",
   "execution_count": null,
   "metadata": {},
   "outputs": [],
   "source": []
  },
  {
   "cell_type": "markdown",
   "metadata": {},
   "source": [
    "### `for` loops"
   ]
  },
  {
   "cell_type": "markdown",
   "metadata": {},
   "source": []
  },
  {
   "cell_type": "markdown",
   "metadata": {},
   "source": [
    "## Definiting functions"
   ]
  },
  {
   "cell_type": "code",
   "execution_count": null,
   "metadata": {},
   "outputs": [],
   "source": []
  },
  {
   "cell_type": "markdown",
   "metadata": {},
   "source": [
    "### `hello_world`"
   ]
  },
  {
   "cell_type": "code",
   "execution_count": null,
   "metadata": {},
   "outputs": [],
   "source": []
  },
  {
   "cell_type": "markdown",
   "metadata": {},
   "source": [
    "### `max_of_two`, `max_of_three`, `max_of_n`"
   ]
  },
  {
   "cell_type": "code",
   "execution_count": null,
   "metadata": {},
   "outputs": [],
   "source": []
  },
  {
   "cell_type": "markdown",
   "metadata": {},
   "source": [
    "### `factorial`, `nCr`"
   ]
  },
  {
   "cell_type": "code",
   "execution_count": null,
   "metadata": {},
   "outputs": [],
   "source": []
  },
  {
   "cell_type": "markdown",
   "metadata": {},
   "source": [
    "### `swap`, `split`"
   ]
  },
  {
   "cell_type": "code",
   "execution_count": null,
   "metadata": {},
   "outputs": [],
   "source": []
  },
  {
   "cell_type": "markdown",
   "metadata": {},
   "source": [
    "## Sorting"
   ]
  },
  {
   "cell_type": "code",
   "execution_count": null,
   "metadata": {},
   "outputs": [],
   "source": []
  }
 ],
 "metadata": {
  "kernelspec": {
   "display_name": "Python 3",
   "language": "python",
   "name": "python3"
  },
  "language_info": {
   "codemirror_mode": {
    "name": "ipython",
    "version": 3
   },
   "file_extension": ".py",
   "mimetype": "text/x-python",
   "name": "python",
   "nbconvert_exporter": "python",
   "pygments_lexer": "ipython3",
   "version": "3.7.2"
  }
 },
 "nbformat": 4,
 "nbformat_minor": 2
}
