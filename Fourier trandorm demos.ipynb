{
 "cells": [
  {
   "cell_type": "code",
   "execution_count": null,
   "metadata": {},
   "outputs": [],
   "source": [
    "import numpy as np\n",
    "from copy import copy\n",
    "from IPython.display import Audio\n",
    "from scipy.io import wavfile\n",
    "from scipy.fftpack import fft, ifft, rfft, irfft\n",
    "from scipy.signal import butter, freqs, filtfilt\n",
    "import matplotlib.pyplot as plt"
   ]
  },
  {
   "cell_type": "code",
   "execution_count": null,
   "metadata": {},
   "outputs": [],
   "source": [
    "AUDIO_FILE = \"hello.wav\""
   ]
  },
  {
   "cell_type": "code",
   "execution_count": null,
   "metadata": {},
   "outputs": [],
   "source": [
    "Audio(AUDIO_FILE)"
   ]
  },
  {
   "cell_type": "code",
   "execution_count": null,
   "metadata": {},
   "outputs": [],
   "source": [
    "s_rate, wav = wavfile.read(AUDIO_FILE)\n",
    "N = len(wav)\n",
    "T = np.linspace(0, N / s_rate, N)"
   ]
  },
  {
   "cell_type": "code",
   "execution_count": null,
   "metadata": {},
   "outputs": [],
   "source": [
    "fig, ax = plt.subplots()\n",
    "ax.set_xlabel(\"Time (s)\")\n",
    "ax.set_ylabel(\"Pressure\")\n",
    "ax.plot(T, wav, color='k', alpha=.5)"
   ]
  },
  {
   "cell_type": "code",
   "execution_count": null,
   "metadata": {},
   "outputs": [],
   "source": [
    "T0 = .2\n",
    "T1 = .22\n",
    "T_snip = T[int(T0*s_rate):int(T1*s_rate)]\n",
    "wav_snip = wav[int(T0*s_rate):int(T1*s_rate)]\n",
    "fig, ax = plt.subplots()\n",
    "ax.set_xlabel(\"Time (s)\")\n",
    "ax.set_ylabel(\"Pressure\")\n",
    "ax.plot(T_snip, wav_snip, color='k', alpha=.5)"
   ]
  },
  {
   "cell_type": "code",
   "execution_count": null,
   "metadata": {},
   "outputs": [],
   "source": [
    "wav_ft = fft(wav)"
   ]
  },
  {
   "cell_type": "code",
   "execution_count": null,
   "metadata": {},
   "outputs": [],
   "source": [
    "# c\n",
    "wav_ft.real[0]"
   ]
  },
  {
   "cell_type": "code",
   "execution_count": null,
   "metadata": {},
   "outputs": [],
   "source": [
    "# The first 20 cos componants\n",
    "wav_ft.real[1:21]"
   ]
  },
  {
   "cell_type": "code",
   "execution_count": null,
   "metadata": {},
   "outputs": [],
   "source": [
    "# The first 20 sin componants\n",
    "wav_ft.imag[1:21]"
   ]
  },
  {
   "cell_type": "code",
   "execution_count": null,
   "metadata": {},
   "outputs": [],
   "source": [
    "fig, ax = plt.subplots()\n",
    "f = np.linspace(0.0, s_rate/2.0, N//2)\n",
    "ax.plot(f, wav_ft[0:N//2].real, alpha=.5)\n",
    "ax.plot(f, wav_ft[0:N//2].imag, alpha=.5)\n",
    "ax.set_xlim([0, 2000])"
   ]
  },
  {
   "cell_type": "code",
   "execution_count": null,
   "metadata": {},
   "outputs": [],
   "source": [
    "N_app = 400 # 400\n",
    "wav_ft_approx = copy(wav_ft)\n",
    "wav_ft_approx[N_app+1:-N_app] = 0\n",
    "wav_approx = ifft(wav_ft_approx)\n",
    "wav_approx = wav_approx.real"
   ]
  },
  {
   "cell_type": "code",
   "execution_count": null,
   "metadata": {},
   "outputs": [],
   "source": [
    "fig, ax = plt.subplots()\n",
    "ax.set_xlabel(\"Frequency (Hz)\")\n",
    "ax.set_ylabel(\"Pressure\")\n",
    "f = np.linspace(0.0, s_rate/2.0, N//2)\n",
    "ax.plot(f, wav_ft_approx[0:N//2].real, alpha=.4)\n",
    "ax.plot(f, wav_ft_approx[0:N//2].imag, alpha=.4)\n",
    "ax.set_xlim([0, 2000])"
   ]
  },
  {
   "cell_type": "code",
   "execution_count": null,
   "metadata": {},
   "outputs": [],
   "source": [
    "fig, ax = plt.subplots()\n",
    "ax.set_xlabel(\"Time (s)\")\n",
    "ax.set_ylabel(\"Pressure\")\n",
    "plt.plot(T, wav, color='k', alpha=.3)\n",
    "plt.plot(T, wav_approx, color='r', alpha=.3)"
   ]
  },
  {
   "cell_type": "code",
   "execution_count": null,
   "metadata": {},
   "outputs": [],
   "source": [
    "T0 = .2\n",
    "T1 = .22\n",
    "\n",
    "T_snip = T[int(T0*s_rate):int(T1*s_rate)]\n",
    "wav_snip = wav[int(T0*s_rate):int(T1*s_rate)]\n",
    "wav_approx_snip = wav_approx[int(T0*s_rate):int(T1*s_rate)]\n",
    "fig, ax = plt.subplots()\n",
    "ax.set_xlabel(\"Time (s)\")\n",
    "ax.set_ylabel(\"Pressure\")\n",
    "ax.plot(T_snip, wav_snip, color='k', alpha=.4)\n",
    "ax.plot(T_snip, wav_approx_snip, color='r', alpha=.4)"
   ]
  },
  {
   "cell_type": "code",
   "execution_count": null,
   "metadata": {},
   "outputs": [],
   "source": [
    "wavfile.write(AUDIO_FILE+\"_cut.wav\", s_rate, wav_approx*.001)"
   ]
  },
  {
   "cell_type": "code",
   "execution_count": null,
   "metadata": {},
   "outputs": [],
   "source": [
    "Audio(AUDIO_FILE+\"_cut.wav\")"
   ]
  },
  {
   "cell_type": "code",
   "execution_count": null,
   "metadata": {},
   "outputs": [],
   "source": [
    "Audio(AUDIO_FILE)"
   ]
  },
  {
   "cell_type": "markdown",
   "metadata": {},
   "source": [
    "# Compression"
   ]
  },
  {
   "cell_type": "code",
   "execution_count": null,
   "metadata": {},
   "outputs": [],
   "source": [
    "x = wav_ft.real\n",
    "y = wav_ft.imag"
   ]
  },
  {
   "cell_type": "code",
   "execution_count": null,
   "metadata": {},
   "outputs": [],
   "source": [
    "print(len(np.nonzero(x)[0]) + len(np.nonzero(y)[0]))"
   ]
  },
  {
   "cell_type": "code",
   "execution_count": null,
   "metadata": {},
   "outputs": [],
   "source": [
    "THRESH = float(0.25e7) # 0.1e7\n",
    "\n",
    "wav_ft_approx = copy(wav_ft)\n",
    "x = wav_ft_approx.real\n",
    "y = wav_ft_approx.imag\n",
    "x[1:][np.abs(x[1:]) < THRESH] = 0\n",
    "y[1:][np.abs(y[1:]) < THRESH] = 0\n",
    "wav_ft_approx = x + 1j * y\n",
    "wav_approx = ifft(wav_ft_approx)\n",
    "wav_approx = wav_approx.real"
   ]
  },
  {
   "cell_type": "code",
   "execution_count": null,
   "metadata": {},
   "outputs": [],
   "source": [
    "print(len(np.nonzero(x)[0]) + len(np.nonzero(y)[0]))"
   ]
  },
  {
   "cell_type": "code",
   "execution_count": null,
   "metadata": {
    "scrolled": true
   },
   "outputs": [],
   "source": [
    "fig, ax = plt.subplots()\n",
    "f = np.linspace(0.0, s_rate/2.0, N//2)\n",
    "ax.set_xlabel(\"Frequency (Hz)\")\n",
    "ax.set_ylabel(\"Pressure\")\n",
    "ax.plot(f, wav_ft_approx[0:N//2].real, alpha=.5)\n",
    "ax.plot(f, wav_ft_approx[0:N//2].imag, alpha=.5)\n",
    "ax.set_xlim([0, 2000])"
   ]
  },
  {
   "cell_type": "code",
   "execution_count": null,
   "metadata": {},
   "outputs": [],
   "source": [
    "fig, ax = plt.subplots()\n",
    "ax.set_xlabel(\"Time (s)\")\n",
    "ax.set_ylabel(\"Pressure\")\n",
    "ax.plot(T, wav, color='k', alpha=.5)\n",
    "ax.plot(T, wav_approx, color='r', alpha=.5)"
   ]
  },
  {
   "cell_type": "code",
   "execution_count": null,
   "metadata": {},
   "outputs": [],
   "source": [
    "T0 = .2\n",
    "T1 = .22\n",
    "\n",
    "T_snip = T[int(T0*s_rate):int(T1*s_rate)]\n",
    "wav_snip = wav[int(T0*s_rate):int(T1*s_rate)]\n",
    "wav_approx_snip = wav_approx[int(T0*s_rate):int(T1*s_rate)]\n",
    "fig, ax = plt.subplots()\n",
    "ax.set_xlabel(\"Time (s)\")\n",
    "ax.set_ylabel(\"Pressure\")\n",
    "ax.plot(T_snip, wav_snip, color='k', alpha=.5)\n",
    "ax.plot(T_snip, wav_approx_snip, color='r', alpha=.5)"
   ]
  },
  {
   "cell_type": "code",
   "execution_count": null,
   "metadata": {},
   "outputs": [],
   "source": [
    "wavfile.write(AUDIO_FILE + \"_comp.wav\", s_rate, wav_approx*.001)"
   ]
  },
  {
   "cell_type": "code",
   "execution_count": null,
   "metadata": {},
   "outputs": [],
   "source": [
    "Audio(AUDIO_FILE + \"_comp.wav\")"
   ]
  },
  {
   "cell_type": "code",
   "execution_count": null,
   "metadata": {},
   "outputs": [],
   "source": [
    "Audio(AUDIO_FILE)"
   ]
  },
  {
   "cell_type": "markdown",
   "metadata": {},
   "source": [
    "# A low pass filter"
   ]
  },
  {
   "cell_type": "code",
   "execution_count": null,
   "metadata": {},
   "outputs": [],
   "source": [
    "# Cutoff frequency\n",
    "F = 400\n",
    "\n",
    "b, a = butter(4, 2.0*F/s_rate, btype='low')\n",
    "wav_lp = filtfilt(b, a, wav, padlen=150)\n",
    "wav_lp_ft = fft(wav_fil_lp)"
   ]
  },
  {
   "cell_type": "code",
   "execution_count": null,
   "metadata": {},
   "outputs": [],
   "source": [
    "fig, ax = plt.subplots()\n",
    "f = np.linspace(0.0, s_rate/2.0, N//2)\n",
    "ax.set_xlabel(\"Frequency (Hz)\")\n",
    "ax.set_ylabel(\"Pressure\")\n",
    "ax.plot(xf, wav_lp_ft[0:N//2].real, alpha=.5)\n",
    "ax.plot(xf, wav_lp_ft[0:N//2].imag, alpha=.5)\n",
    "ax.set_xlim([0, 2000])"
   ]
  },
  {
   "cell_type": "code",
   "execution_count": null,
   "metadata": {},
   "outputs": [],
   "source": [
    "fig, ax = plt.subplots()\n",
    "ax.set_xlabel(\"Time (s)\")\n",
    "ax.set_ylabel(\"Pressure\")\n",
    "plt.plot(T, wav, color='k', alpha=.5)\n",
    "plt.plot(T, wav_lp, color='r', alpha=.5)"
   ]
  },
  {
   "cell_type": "code",
   "execution_count": null,
   "metadata": {},
   "outputs": [],
   "source": [
    "T0 = .2\n",
    "T1 = .22\n",
    "T_snip = T[int(T0*s_rate):int(T1*s_rate)]\n",
    "wav_snip = wav[int(T0*s_rate):int(T1*s_rate)]\n",
    "wav_approx_snip = wav_lp[int(T0*s_rate):int(T1*s_rate)]\n",
    "fig, ax = plt.subplots()\n",
    "ax.set_xlabel(\"Time (s)\")\n",
    "ax.set_ylabel(\"Pressure\")\n",
    "ax.plot(T_snip, wav_snip, color='k', alpha=.5)\n",
    "ax.plot(T_snip, wav_approx_snip, color='r', alpha=.5)"
   ]
  },
  {
   "cell_type": "code",
   "execution_count": null,
   "metadata": {},
   "outputs": [],
   "source": [
    "wavfile.write(AUDIO_FILE + \"_lp.wav\", s_rate, wav_lp*.001)"
   ]
  },
  {
   "cell_type": "code",
   "execution_count": null,
   "metadata": {},
   "outputs": [],
   "source": [
    "Audio(AUDIO_FILE)"
   ]
  },
  {
   "cell_type": "markdown",
   "metadata": {},
   "source": [
    "# A high pass filter"
   ]
  },
  {
   "cell_type": "code",
   "execution_count": null,
   "metadata": {},
   "outputs": [],
   "source": [
    "# Cutoff frequency\n",
    "F = 400\n",
    "\n",
    "b, a = butter(4, 2.0*F/s_rate, btype='high')\n",
    "wav_hp = filtfilt(b, a, wav)\n",
    "wav_hp_ft = fft(wav_hp)"
   ]
  },
  {
   "cell_type": "code",
   "execution_count": null,
   "metadata": {},
   "outputs": [],
   "source": [
    "fig, ax = plt.subplots()\n",
    "f = np.linspace(0.0, s_rate/2.0, N//2)\n",
    "ax.set_xlabel(\"Frequncy (Hz)\")\n",
    "ax.set_ylabel(\"Pressure\")\n",
    "ax.plot(xf, wav_hp_ft[0:N//2].real, alpha=.5)\n",
    "ax.plot(xf, wav_hp_ft[0:N//2].imag, alpha=.5)\n",
    "ax.set_xlim([0, 2000])"
   ]
  },
  {
   "cell_type": "code",
   "execution_count": null,
   "metadata": {},
   "outputs": [],
   "source": [
    "fig, ax = plt.subplots()\n",
    "ax.set_xlabel(\"Time (s)\")\n",
    "ax.set_ylabel(\"Pressure\")\n",
    "plt.plot(T, wav, color='k', alpha=.5)\n",
    "plt.plot(T, wav_hp, color='r', alpha=.5)"
   ]
  },
  {
   "cell_type": "code",
   "execution_count": null,
   "metadata": {},
   "outputs": [],
   "source": [
    "T0 = .2\n",
    "T1 = .22\n",
    "T_snip = T[int(T0*s_rate):int(T1*s_rate)]\n",
    "wav_snip = wav[int(T0*s_rate):int(T1*s_rate)]\n",
    "wav_approx_snip = wav_hp[int(T0*s_rate):int(T1*s_rate)]\n",
    "fig, ax = plt.subplots()\n",
    "ax.set_xlabel(\"Time (s)\")\n",
    "ax.set_ylabel(\"Pressure\")\n",
    "ax.plot(T_snip, wav_snip, color='k', alpha=.5)\n",
    "ax.plot(T_snip, wav_approx_snip, color='r', alpha=.5)"
   ]
  },
  {
   "cell_type": "code",
   "execution_count": null,
   "metadata": {},
   "outputs": [],
   "source": [
    "wavfile.write(AUDIO_FILE + \"_hp.wav\", s_rate, wav_hp*.001)"
   ]
  },
  {
   "cell_type": "code",
   "execution_count": null,
   "metadata": {},
   "outputs": [],
   "source": [
    "Audio(AUDIO_FILE + \"_hp.wav\")"
   ]
  },
  {
   "cell_type": "code",
   "execution_count": null,
   "metadata": {},
   "outputs": [],
   "source": [
    "Audio(AUDIO_FILE)"
   ]
  },
  {
   "cell_type": "markdown",
   "metadata": {},
   "source": [
    "# A high pass + compression"
   ]
  },
  {
   "cell_type": "code",
   "execution_count": null,
   "metadata": {},
   "outputs": [],
   "source": [
    "F = 400\n",
    "b, a = butter(4, 2.0*F/s_rate, btype='high')\n",
    "wav_hp = filtfilt(b, a, wav)\n",
    "wav_hp_ft = fft(wav_hp)"
   ]
  },
  {
   "cell_type": "code",
   "execution_count": null,
   "metadata": {},
   "outputs": [],
   "source": [
    "THRESH = float(0.05e7) # .01\n",
    "\n",
    "wav_ft_approx = copy(wav_hp_ft)\n",
    "x = wav_ft_approx.real\n",
    "y = wav_ft_approx.imag\n",
    "x[1:][np.abs(x[1:]) < THRESH] = 0\n",
    "y[1:][np.abs(y[1:]) < THRESH] = 0\n",
    "wav_ft_approx = x + 1j * y\n",
    "wav_approx = ifft(wav_ft_approx)\n",
    "wav_approx = wav_approx.real"
   ]
  },
  {
   "cell_type": "code",
   "execution_count": null,
   "metadata": {},
   "outputs": [],
   "source": [
    "print(len(np.nonzero(x)[0]) + len(np.nonzero(y)[0]))"
   ]
  },
  {
   "cell_type": "code",
   "execution_count": null,
   "metadata": {},
   "outputs": [],
   "source": [
    "fig, ax = plt.subplots()\n",
    "f = np.linspace(0.0, s_rate/2.0, N//2)\n",
    "ax.set_xlabel(\"Frequency (Hz)\")\n",
    "ax.set_ylabel(\"Pressure\")\n",
    "ax.plot(xf, wav_ft_approx[0:N//2].real, alpha=.5)\n",
    "ax.plot(xf, wav_ft_approx[0:N//2].imag, alpha=.5)\n",
    "ax.set_xlim([0, 2000])"
   ]
  },
  {
   "cell_type": "code",
   "execution_count": null,
   "metadata": {},
   "outputs": [],
   "source": [
    "fig, ax = plt.subplots()\n",
    "ax.set_xlabel(\"Time (s)\")\n",
    "ax.set_ylabel(\"Pressure\")\n",
    "plt.plot(T, wav, color='k', alpha=.5)\n",
    "plt.plot(T, wav_approx, color='r', alpha=.5)"
   ]
  },
  {
   "cell_type": "code",
   "execution_count": null,
   "metadata": {},
   "outputs": [],
   "source": [
    "T_snip = T[int(T0*s_rate):int(T1*s_rate)]\n",
    "wav_snip = wav[int(T0*s_rate):int(T1*s_rate)]\n",
    "wav_approx_snip = wav_approx[int(T0*s_rate):int(T1*s_rate)]\n",
    "fig, ax = plt.subplots()\n",
    "ax.set_xlabel(\"Time (s)\")\n",
    "ax.set_ylabel(\"Pressure\")\n",
    "ax.plot(T_snip, wav_snip, color='k', alpha=.5)\n",
    "ax.plot(T_snip, wav_approx_snip, color='r', alpha=.5)"
   ]
  },
  {
   "cell_type": "code",
   "execution_count": null,
   "metadata": {},
   "outputs": [],
   "source": [
    "wavfile.write(AUDIO_FILE + \"_hp_comp.wav\", s_rate, wav_approx*.001)"
   ]
  },
  {
   "cell_type": "code",
   "execution_count": null,
   "metadata": {},
   "outputs": [],
   "source": [
    "Audio(AUDIO_FILE + \"_hp_comp.wav\")"
   ]
  },
  {
   "cell_type": "code",
   "execution_count": null,
   "metadata": {},
   "outputs": [],
   "source": [
    "Audio(AUDIO_FILE)"
   ]
  },
  {
   "cell_type": "markdown",
   "metadata": {},
   "source": [
    "# A low pass + compression"
   ]
  },
  {
   "cell_type": "code",
   "execution_count": null,
   "metadata": {},
   "outputs": [],
   "source": [
    "# Frequncy cutoff\n",
    "F = 1000\n",
    "\n",
    "b, a = butter(4, 2.0*F/s_rate, btype='low')\n",
    "wav_hp = filtfilt(b, a, wav)\n",
    "wav_hp_ft = fft(wav_hp)"
   ]
  },
  {
   "cell_type": "code",
   "execution_count": null,
   "metadata": {},
   "outputs": [],
   "source": [
    "THRESH = float(0.3e7) # .01\n",
    "\n",
    "wav_ft_approx = copy(wav_hp_ft)\n",
    "x = wav_ft_approx.real\n",
    "y = wav_ft_approx.imag\n",
    "x[1:][np.abs(x[1:]) < THRESH] = 0\n",
    "y[1:][np.abs(y[1:]) < THRESH] = 0\n",
    "wav_ft_approx = x + 1j * y\n",
    "wav_approx = ifft(wav_ft_approx)\n",
    "wav_approx = wav_approx.real"
   ]
  },
  {
   "cell_type": "code",
   "execution_count": null,
   "metadata": {},
   "outputs": [],
   "source": [
    "print(len(np.nonzero(x)[0]) + len(np.nonzero(y)[0]))"
   ]
  },
  {
   "cell_type": "code",
   "execution_count": null,
   "metadata": {},
   "outputs": [],
   "source": [
    "fig, ax = plt.subplots()\n",
    "f = np.linspace(0.0, s_rate/2.0, N//2)\n",
    "ax.set_xlabel(\"Frequency (Hz)\")\n",
    "ax.set_ylabel(\"Pressure\")\n",
    "ax.plot(xf, wav_ft_approx[0:N//2].real, alpha=.5)\n",
    "ax.plot(xf, wav_ft_approx[0:N//2].imag, alpha=.5)\n",
    "ax.set_xlim([0, 2000])"
   ]
  },
  {
   "cell_type": "code",
   "execution_count": null,
   "metadata": {},
   "outputs": [],
   "source": [
    "fig, ax = plt.subplots()\n",
    "ax.set_xlabel(\"Time (s)\")\n",
    "ax.set_ylabel(\"Pressure\")\n",
    "plt.plot(T, wav, color='k', alpha=.5)\n",
    "plt.plot(T, wav_approx, color='r', alpha=.5)"
   ]
  },
  {
   "cell_type": "code",
   "execution_count": null,
   "metadata": {},
   "outputs": [],
   "source": [
    "T_snip = T[int(T0*s_rate):int(T1*s_rate)]\n",
    "wav_snip = wav[int(T0*s_rate):int(T1*s_rate)]\n",
    "wav_approx_snip = wav_approx[int(T0*s_rate):int(T1*s_rate)]\n",
    "fig, ax = plt.subplots()\n",
    "ax.set_xlabel(\"Time (s)\")\n",
    "ax.set_ylabel(\"Pressure\")\n",
    "ax.plot(T_snip, wav_snip, color='k', alpha=.5)\n",
    "ax.plot(T_snip, wav_approx_snip, color='r', alpha=.5)"
   ]
  },
  {
   "cell_type": "code",
   "execution_count": null,
   "metadata": {},
   "outputs": [],
   "source": [
    "wavfile.write(AUDIO_FILE + \"_lp_comp.wav\", s_rate, wav_approx*.001)"
   ]
  },
  {
   "cell_type": "code",
   "execution_count": null,
   "metadata": {},
   "outputs": [],
   "source": [
    "Audio(AUDIO_FILE + \"_lp_comp.wav\")"
   ]
  },
  {
   "cell_type": "code",
   "execution_count": null,
   "metadata": {},
   "outputs": [],
   "source": [
    "Audio(AUDIO_FILE)"
   ]
  }
 ],
 "metadata": {
  "kernelspec": {
   "display_name": "Python 3",
   "language": "python",
   "name": "python3"
  },
  "language_info": {
   "codemirror_mode": {
    "name": "ipython",
    "version": 3
   },
   "file_extension": ".py",
   "mimetype": "text/x-python",
   "name": "python",
   "nbconvert_exporter": "python",
   "pygments_lexer": "ipython3",
   "version": "3.7.1"
  },
  "toc": {
   "base_numbering": 1,
   "nav_menu": {
    "height": "125px",
    "width": "432px"
   },
   "number_sections": true,
   "sideBar": true,
   "skip_h1_title": false,
   "title_cell": "Table of Contents",
   "title_sidebar": "Contents",
   "toc_cell": false,
   "toc_position": {},
   "toc_section_display": true,
   "toc_window_display": false
  }
 },
 "nbformat": 4,
 "nbformat_minor": 2
}
