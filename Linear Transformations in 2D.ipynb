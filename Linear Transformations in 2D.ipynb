{
 "cells": [
  {
   "cell_type": "markdown",
   "metadata": {},
   "source": [
    "# Setting up the notebook"
   ]
  },
  {
   "cell_type": "code",
   "execution_count": 40,
   "metadata": {},
   "outputs": [],
   "source": [
    "import numpy as np\n",
    "import matplotlib.pylab as plt\n",
    "import matplotlib.animation as animation\n",
    "from matplotlib import cm\n",
    "from IPython.display import HTML\n",
    "from numpy import sqrt, cos, sin, tan"
   ]
  },
  {
   "cell_type": "markdown",
   "metadata": {},
   "source": [
    "# Plotting linear transformations on sets of points"
   ]
  },
  {
   "cell_type": "code",
   "execution_count": 41,
   "metadata": {},
   "outputs": [],
   "source": [
    "# Creating a set of vectors arranged on a circle to vizualize\n",
    "\n",
    "R = 1.0 # radius the points will sit at. \n",
    "N_POINTS = 60 # the number of points to draw\n",
    "theta = np.linspace(0, 2*np.pi, N_POINTS, endpoint=False) # angles for the points\n",
    "V_sel = [0, 15] # Special points to fully draw the vectors  \n",
    "\n",
    "# Defining the set of vectors, one at each theta\n",
    "V = np.array([(R*np.cos(i), R*np.sin(i)) for i in theta]).T\n",
    "\n",
    "# Picking some pretty colors to use for the points\n",
    "hsv = cm.get_cmap('hsv', N_POINTS)\n",
    "colors = list(hsv(range(N_POINTS)))"
   ]
  },
  {
   "cell_type": "code",
   "execution_count": 42,
   "metadata": {},
   "outputs": [
    {
     "data": {
      "text/plain": [
       "array([0.        , 0.10471976, 0.20943951, 0.31415927, 0.41887902,\n",
       "       0.52359878, 0.62831853, 0.73303829, 0.83775804, 0.9424778 ,\n",
       "       1.04719755, 1.15191731, 1.25663706, 1.36135682, 1.46607657,\n",
       "       1.57079633, 1.67551608, 1.78023584, 1.88495559, 1.98967535,\n",
       "       2.0943951 , 2.19911486, 2.30383461, 2.40855437, 2.51327412,\n",
       "       2.61799388, 2.72271363, 2.82743339, 2.93215314, 3.0368729 ,\n",
       "       3.14159265, 3.24631241, 3.35103216, 3.45575192, 3.56047167,\n",
       "       3.66519143, 3.76991118, 3.87463094, 3.97935069, 4.08407045,\n",
       "       4.1887902 , 4.29350996, 4.39822972, 4.50294947, 4.60766923,\n",
       "       4.71238898, 4.81710874, 4.92182849, 5.02654825, 5.131268  ,\n",
       "       5.23598776, 5.34070751, 5.44542727, 5.55014702, 5.65486678,\n",
       "       5.75958653, 5.86430629, 5.96902604, 6.0737458 , 6.17846555])"
      ]
     },
     "execution_count": 42,
     "metadata": {},
     "output_type": "execute_result"
    }
   ],
   "source": [
    "theta"
   ]
  },
  {
   "cell_type": "code",
   "execution_count": 43,
   "metadata": {},
   "outputs": [
    {
     "data": {
      "text/plain": [
       "array([[ 1.00000000e+00,  9.94521895e-01,  9.78147601e-01,\n",
       "         9.51056516e-01,  9.13545458e-01,  8.66025404e-01,\n",
       "         8.09016994e-01,  7.43144825e-01,  6.69130606e-01,\n",
       "         5.87785252e-01,  5.00000000e-01,  4.06736643e-01,\n",
       "         3.09016994e-01,  2.07911691e-01,  1.04528463e-01,\n",
       "         6.12323400e-17, -1.04528463e-01, -2.07911691e-01,\n",
       "        -3.09016994e-01, -4.06736643e-01, -5.00000000e-01,\n",
       "        -5.87785252e-01, -6.69130606e-01, -7.43144825e-01,\n",
       "        -8.09016994e-01, -8.66025404e-01, -9.13545458e-01,\n",
       "        -9.51056516e-01, -9.78147601e-01, -9.94521895e-01,\n",
       "        -1.00000000e+00, -9.94521895e-01, -9.78147601e-01,\n",
       "        -9.51056516e-01, -9.13545458e-01, -8.66025404e-01,\n",
       "        -8.09016994e-01, -7.43144825e-01, -6.69130606e-01,\n",
       "        -5.87785252e-01, -5.00000000e-01, -4.06736643e-01,\n",
       "        -3.09016994e-01, -2.07911691e-01, -1.04528463e-01,\n",
       "        -1.83697020e-16,  1.04528463e-01,  2.07911691e-01,\n",
       "         3.09016994e-01,  4.06736643e-01,  5.00000000e-01,\n",
       "         5.87785252e-01,  6.69130606e-01,  7.43144825e-01,\n",
       "         8.09016994e-01,  8.66025404e-01,  9.13545458e-01,\n",
       "         9.51056516e-01,  9.78147601e-01,  9.94521895e-01],\n",
       "       [ 0.00000000e+00,  1.04528463e-01,  2.07911691e-01,\n",
       "         3.09016994e-01,  4.06736643e-01,  5.00000000e-01,\n",
       "         5.87785252e-01,  6.69130606e-01,  7.43144825e-01,\n",
       "         8.09016994e-01,  8.66025404e-01,  9.13545458e-01,\n",
       "         9.51056516e-01,  9.78147601e-01,  9.94521895e-01,\n",
       "         1.00000000e+00,  9.94521895e-01,  9.78147601e-01,\n",
       "         9.51056516e-01,  9.13545458e-01,  8.66025404e-01,\n",
       "         8.09016994e-01,  7.43144825e-01,  6.69130606e-01,\n",
       "         5.87785252e-01,  5.00000000e-01,  4.06736643e-01,\n",
       "         3.09016994e-01,  2.07911691e-01,  1.04528463e-01,\n",
       "         1.22464680e-16, -1.04528463e-01, -2.07911691e-01,\n",
       "        -3.09016994e-01, -4.06736643e-01, -5.00000000e-01,\n",
       "        -5.87785252e-01, -6.69130606e-01, -7.43144825e-01,\n",
       "        -8.09016994e-01, -8.66025404e-01, -9.13545458e-01,\n",
       "        -9.51056516e-01, -9.78147601e-01, -9.94521895e-01,\n",
       "        -1.00000000e+00, -9.94521895e-01, -9.78147601e-01,\n",
       "        -9.51056516e-01, -9.13545458e-01, -8.66025404e-01,\n",
       "        -8.09016994e-01, -7.43144825e-01, -6.69130606e-01,\n",
       "        -5.87785252e-01, -5.00000000e-01, -4.06736643e-01,\n",
       "        -3.09016994e-01, -2.07911691e-01, -1.04528463e-01]])"
      ]
     },
     "execution_count": 43,
     "metadata": {},
     "output_type": "execute_result"
    }
   ],
   "source": [
    "V"
   ]
  },
  {
   "cell_type": "code",
   "execution_count": 44,
   "metadata": {},
   "outputs": [],
   "source": [
    "# Defining some functions to plot the points and special points in the transformation\n",
    "\n",
    "def plot_points(ax, points, colors='blue', marker='o', size=10.0, alpha=1.0, zorder=0):\n",
    "    if not isinstance(colors, list):\n",
    "        colors = len(points[0]) * [colors]   \n",
    "    out = ax.scatter(points[0,:], points[1,:], c=colors, marker=marker, s=size, alpha=alpha, zorder=zorder)\n",
    "    return(out)\n",
    "\n",
    "def plot_eigs(ax, M, zorder=3):\n",
    "    w, v = np.linalg.eig(M)\n",
    "    T = np.linspace(-100, 100, 10)\n",
    "    v1 = v[:,0]\n",
    "    v2 = v[:,1]\n",
    "    \n",
    "    X1 = v1[0]*T\n",
    "    Y1 = v1[1]*T\n",
    "    \n",
    "    X2 = v2[0]*T\n",
    "    Y2 = v2[1]*T\n",
    "    \n",
    "#     ax.plot(X1, Y1, color='k', zorder=zorder)\n",
    "#     ax.scatter(v1[0], v1[1], marker='o', color='k', zorder=zorder)\n",
    "#     ax.scatter(w[0]*v1[0], w[0]*v1[1], marker='x', color='k', zorder=zorder)\n",
    "    ax.arrow(0, 0, w[0]*v1[0], w[0]*v1[1], width=.05, length_includes_head=True, color='k')\n",
    "    ax.arrow(0, 0, v1[0], v1[1], width=.05, length_includes_head=True, color='.5')\n",
    "        \n",
    "#     ax.plot(X2, Y2, color='k', zorder=zorder)\n",
    "#     ax.scatter(v2[0], v2[1], marker='o', color='k', zorder=zorder)\n",
    "#     ax.scatter(w[1]*v2[0], w[1]*v2[1], marker='x', color='k', zorder=zorder)\n",
    "    ax.arrow(0, 0, w[1]*v2[0], w[1]*v2[1], width=.05, length_includes_head=True, color='k')\n",
    "    ax.arrow(0, 0, v2[0], v2[1], width=.05, length_includes_head=True, color='.5')\n",
    "    pass"
   ]
  },
  {
   "cell_type": "code",
   "execution_count": 47,
   "metadata": {},
   "outputs": [
    {
     "data": {
      "text/plain": [
       "(-3, 3)"
      ]
     },
     "execution_count": 47,
     "metadata": {},
     "output_type": "execute_result"
    },
    {
     "data": {
      "image/png": "[encoded data removed]",
      "text/plain": [
       "<Figure size 360x360 with 1 Axes>"
      ]
     },
     "metadata": {
      "image/png": {
       "height": 305,
       "width": 305
      },
      "needs_background": "light"
     },
     "output_type": "display_data"
    }
   ],
   "source": [
    "# Plotting the initial set of points V as a color wheel\n",
    "\n",
    "# Drawing the axes\n",
    "fig, ax = plt.subplots(figsize=(5,5))\n",
    "ax.set_aspect('equal')\n",
    "ax.axhline(0, color='.8', zorder=0)\n",
    "ax.axvline(0, color='.8', zorder=0)\n",
    "\n",
    "# Plotting the points\n",
    "a = plot_points(ax, V, colors=colors, zorder=1)\n",
    "for i in V_sel:\n",
    "    ax.plot([0,V[0][i]], [0, V[1][i]], color=colors[i], linewidth=2)\n",
    "\n",
    "# Setting the scale of x and y axis\n",
    "ax.set_xlim([-3, 3])\n",
    "ax.set_ylim([-3, 3])"
   ]
  },
  {
   "cell_type": "code",
   "execution_count": 49,
   "metadata": {},
   "outputs": [],
   "source": [
    "# Definining the linear transformation using the matrix M (CHANGE THE NUMBERS BELOW)\n",
    "M = np.array(\n",
    "    [[1, 0],\n",
    "     [0, 1]]\n",
    "    )\n",
    "\n",
    "# Matrix multiplicaton (@) of points V by M to get new points V2\n",
    "V2 = M @ V"
   ]
  },
  {
   "cell_type": "code",
   "execution_count": 50,
   "metadata": {},
   "outputs": [
    {
     "data": {
      "text/plain": [
       "(-3, 3)"
      ]
     },
     "execution_count": 50,
     "metadata": {},
     "output_type": "execute_result"
    },
    {
     "data": {
      "image/png": "[encoded data removed]",
      "text/plain": [
       "<Figure size 360x360 with 1 Axes>"
      ]
     },
     "metadata": {
      "image/png": {
       "height": 305,
       "width": 305
      },
      "needs_background": "light"
     },
     "output_type": "display_data"
    }
   ],
   "source": [
    "# Plotting the result of multiplying V by M (along with the initial set, V)\n",
    "\n",
    "# Drawing the axes\n",
    "fig, ax = plt.subplots(figsize=(5,5))\n",
    "ax.set_aspect('equal')\n",
    "ax.axhline(0, color='.8', zorder=0)\n",
    "ax.axvline(0, color='.8', zorder=0)\n",
    "\n",
    "# Plotting the points\n",
    "plot_points(ax, V, colors=colors, zorder=1, alpha=.2)\n",
    "for i in V_sel:\n",
    "    ax.plot([0,V[0][i]], [0, V[1][i]], color=colors[i], linewidth=2, alpha=.2)\n",
    "\n",
    "# Plotting the newpoints\n",
    "plot_points(ax, V2, colors=colors, zorder=3)\n",
    "for i in V_sel:\n",
    "    ax.plot([0,V2[0][i]], [0, V2[1][i]], color=colors[i], linewidth=2)\n",
    "\n",
    "# Setting the scale of x and y axis\n",
    "ax.set_xlim([-3, 3])\n",
    "ax.set_ylim([-3, 3])\n"
   ]
  },
  {
   "cell_type": "code",
   "execution_count": null,
   "metadata": {},
   "outputs": [],
   "source": [
    "# Plotting the result of multiplying V by M (along with the initial set, V) & conserved directions (eigenvalues)\n",
    "\n",
    "# Drawing the axes\n",
    "fig, ax = plt.subplots(figsize=(5,5))\n",
    "ax.set_aspect('equal')\n",
    "ax.axhline(0, color='.8', zorder=0)\n",
    "ax.axvline(0, color='.8', zorder=0)\n",
    "\n",
    "# Plotting the points\n",
    "plot_points(ax, V, colors=colors, zorder=1, alpha=.2)\n",
    "\n",
    "# Plotting the newpoints\n",
    "plot_points(ax, V2, colors=colors, zorder=3)\n",
    "plot_eigs(ax, M)\n",
    "\n",
    "# Setting the scale of x and y axis\n",
    "ax.set_xlim([-3, 3])\n",
    "ax.set_ylim([-3, 3])\n"
   ]
  },
  {
   "cell_type": "markdown",
   "metadata": {
    "heading_collapsed": true
   },
   "source": [
    "# Animating the flow"
   ]
  },
  {
   "cell_type": "code",
   "execution_count": null,
   "metadata": {
    "hidden": true
   },
   "outputs": [],
   "source": [
    "# Plotting the result of multiplying V by M as an animation\n",
    "\n",
    "FRAMES = 100\n",
    "INTERVAL = 20\n",
    "DT = 0.0001\n",
    "\n",
    "# Drawing the axes\n",
    "fig, ax = plt.subplots(figsize=(5,5))\n",
    "ax.set_aspect('equal')\n",
    "ax.axhline(0, color='.8', zorder=0)\n",
    "ax.axvline(0, color='.8', zorder=0)\n",
    "\n",
    "# Setting the scale of x and y axis\n",
    "ax.set_xlim([-3, 3])\n",
    "ax.set_ylim([-3, 3])\n",
    "\n",
    "V2 = V[:]\n",
    "\n",
    "# Animating \n",
    "def init():\n",
    "    a = plot_points(ax, V, colors=colors, zorder=1)\n",
    "    return a\n",
    "\n",
    "def animate(i):\n",
    "    ax.clear()\n",
    "    # Setting the scale of x and y axis\n",
    "    ax.set_xlim([-3, 3])\n",
    "    ax.set_ylim([-3, 3])\n",
    "    ax.set_aspect('equal')\n",
    "    ax.axhline(0, color='.8', zorder=0)\n",
    "    ax.axvline(0, color='.8', zorder=0)\n",
    "    \n",
    "    V2 = V[:]\n",
    "    for j in range(i): \n",
    "        V2 += DT * M @ V2\n",
    "    a = plot_points(ax, V2, colors=colors, zorder=1)\n",
    "    return a\n",
    "\n",
    "anim = animation.FuncAnimation(fig, animate, frames=FRAMES, interval=INTERVAL, blit=False, init_func=init)\n",
    "\n",
    "HTML(anim.to_html5_video())"
   ]
  },
  {
   "cell_type": "code",
   "execution_count": null,
   "metadata": {
    "hidden": true
   },
   "outputs": [],
   "source": []
  },
  {
   "cell_type": "code",
   "execution_count": null,
   "metadata": {
    "hidden": true
   },
   "outputs": [],
   "source": []
  }
 ],
 "metadata": {
  "kernelspec": {
   "display_name": "Python 3",
   "language": "python",
   "name": "python3"
  },
  "language_info": {
   "codemirror_mode": {
    "name": "ipython",
    "version": 3
   },
   "file_extension": ".py",
   "mimetype": "text/x-python",
   "name": "python",
   "nbconvert_exporter": "python",
   "pygments_lexer": "ipython3",
   "version": "3.7.2"
  },
  "toc": {
   "base_numbering": 1,
   "nav_menu": {},
   "number_sections": true,
   "sideBar": true,
   "skip_h1_title": false,
   "title_cell": "Table of Contents",
   "title_sidebar": "Contents",
   "toc_cell": false,
   "toc_position": {},
   "toc_section_display": true,
   "toc_window_display": false
  },
  "varInspector": {
   "cols": {
    "lenName": 16,
    "lenType": 16,
    "lenVar": 40
   },
   "kernels_config": {
    "python": {
     "delete_cmd_postfix": "",
     "delete_cmd_prefix": "del ",
     "library": "var_list.py",
     "varRefreshCmd": "print(var_dic_list())"
    },
    "r": {
     "delete_cmd_postfix": ") ",
     "delete_cmd_prefix": "rm(",
     "library": "var_list.r",
     "varRefreshCmd": "cat(var_dic_list()) "
    }
   },
   "types_to_exclude": [
    "module",
    "function",
    "builtin_function_or_method",
    "instance",
    "_Feature"
   ],
   "window_display": false
  }
 },
 "nbformat": 4,
 "nbformat_minor": 2
}
