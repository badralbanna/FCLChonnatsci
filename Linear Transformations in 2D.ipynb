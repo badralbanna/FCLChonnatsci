{
 "cells": [
  {
   "cell_type": "markdown",
   "metadata": {},
   "source": [
    "# Setting up the notebook"
   ]
  },
  {
   "cell_type": "code",
   "execution_count": null,
   "metadata": {},
   "outputs": [],
   "source": [
    "import numpy as np\n",
    "import matplotlib.pylab as plt\n",
    "import matplotlib.animation as animation\n",
    "from matplotlib import cm\n",
    "from IPython.display import HTML\n",
    "from numpy import sqrt, cos, sin, tan"
   ]
  },
  {
   "cell_type": "markdown",
   "metadata": {},
   "source": [
    "# Plotting linear transformations on sets of points"
   ]
  },
  {
   "cell_type": "code",
   "execution_count": null,
   "metadata": {},
   "outputs": [],
   "source": [
    "# Creating a set of vectors arranged on a circle to vizualize\n",
    "\n",
    "R = 1.0 # radius the points will sit at. \n",
    "N_POINTS = 60 # the number of points to draw\n",
    "theta = np.linspace(0, 2*np.pi, N_POINTS, endpoint=False) # angles for the points\n",
    "V_sel = [0, 15] # Special points to fully draw the vectors  \n",
    "\n",
    "# Defining the set of vectors, one at each theta\n",
    "V = np.array([(R*np.cos(i), R*np.sin(i)) for i in theta]).T\n",
    "\n",
    "# Picking some pretty colors to use for the points\n",
    "hsv = cm.get_cmap('hsv', N_POINTS)\n",
    "colors = list(hsv(range(N_POINTS)))"
   ]
  },
  {
   "cell_type": "code",
   "execution_count": null,
   "metadata": {},
   "outputs": [],
   "source": [
    "theta"
   ]
  },
  {
   "cell_type": "code",
   "execution_count": null,
   "metadata": {},
   "outputs": [],
   "source": [
    "V"
   ]
  },
  {
   "cell_type": "code",
   "execution_count": null,
   "metadata": {},
   "outputs": [],
   "source": [
    "# Defining some functions to plot the points and special points in the transformation\n",
    "\n",
    "def plot_points(ax, points, colors='blue', marker='o', size=10.0, alpha=1.0, zorder=0):\n",
    "    if not isinstance(colors, list):\n",
    "        colors = len(points[0]) * [colors]   \n",
    "    out = ax.scatter(points[0,:], points[1,:], c=colors, marker=marker, s=size, alpha=alpha, zorder=zorder)\n",
    "    return(out)\n",
    "\n",
    "def plot_eigs(ax, M, zorder=3):\n",
    "    w, v = np.linalg.eig(M)\n",
    "    T = np.linspace(-100, 100, 10)\n",
    "    v1 = v[:,0]\n",
    "    v2 = v[:,1]\n",
    "    \n",
    "    X1 = v1[0]*T\n",
    "    Y1 = v1[1]*T\n",
    "    \n",
    "    X2 = v2[0]*T\n",
    "    Y2 = v2[1]*T\n",
    "    \n",
    "#     ax.plot(X1, Y1, color='k', zorder=zorder)\n",
    "#     ax.scatter(v1[0], v1[1], marker='o', color='k', zorder=zorder)\n",
    "#     ax.scatter(w[0]*v1[0], w[0]*v1[1], marker='x', color='k', zorder=zorder)\n",
    "    ax.arrow(0, 0, w[0]*v1[0], w[0]*v1[1], width=.05, length_includes_head=True, color='k')\n",
    "    ax.arrow(0, 0, v1[0], v1[1], width=.05, length_includes_head=True, color='.5')\n",
    "        \n",
    "#     ax.plot(X2, Y2, color='k', zorder=zorder)\n",
    "#     ax.scatter(v2[0], v2[1], marker='o', color='k', zorder=zorder)\n",
    "#     ax.scatter(w[1]*v2[0], w[1]*v2[1], marker='x', color='k', zorder=zorder)\n",
    "    ax.arrow(0, 0, w[1]*v2[0], w[1]*v2[1], width=.05, length_includes_head=True, color='k')\n",
    "    ax.arrow(0, 0, v2[0], v2[1], width=.05, length_includes_head=True, color='.5')\n",
    "    pass"
   ]
  },
  {
   "cell_type": "code",
   "execution_count": null,
   "metadata": {},
   "outputs": [],
   "source": [
    "# Plotting the initial set of points V as a color wheel\n",
    "\n",
    "# Drawing the axes\n",
    "fig, ax = plt.subplots(figsize=(5,5))\n",
    "ax.set_aspect('equal')\n",
    "ax.axhline(0, color='.8', zorder=0)\n",
    "ax.axvline(0, color='.8', zorder=0)\n",
    "\n",
    "# Plotting the points\n",
    "a = plot_points(ax, V, colors=colors, zorder=1)\n",
    "for i in V_sel:\n",
    "    ax.plot([0,V[0][i]], [0, V[1][i]], color=colors[i], linewidth=2)\n",
    "\n",
    "# Setting the scale of x and y axis\n",
    "ax.set_xlim([-3, 3])\n",
    "ax.set_ylim([-3, 3])"
   ]
  },
  {
   "cell_type": "code",
   "execution_count": null,
   "metadata": {},
   "outputs": [],
   "source": [
    "# Definining the linear transformation using the matrix M (CHANGE THE NUMBERS BELOW)\n",
    "M = np.array(\n",
    "    [[2, 0],\n",
    "     [0, 1]]\n",
    "    )\n",
    "\n",
    "# Matrix multiplicaton (@) of points V by M to get new points V2\n",
    "V2 = M @ V"
   ]
  },
  {
   "cell_type": "code",
   "execution_count": null,
   "metadata": {},
   "outputs": [],
   "source": [
    "# Plotting the result of multiplying V by M (along with the initial set, V)\n",
    "\n",
    "# Drawing the axes\n",
    "fig, ax = plt.subplots(figsize=(5,5))\n",
    "ax.set_aspect('equal')\n",
    "ax.axhline(0, color='.8', zorder=0)\n",
    "ax.axvline(0, color='.8', zorder=0)\n",
    "\n",
    "# Plotting the points\n",
    "plot_points(ax, V, colors=colors, zorder=1, alpha=.2)\n",
    "for i in V_sel:\n",
    "    ax.plot([0,V[0][i]], [0, V[1][i]], color=colors[i], linewidth=2, alpha=.2)\n",
    "\n",
    "# Plotting the newpoints\n",
    "plot_points(ax, V2, colors=colors, zorder=3)\n",
    "for i in V_sel:\n",
    "    ax.plot([0,V2[0][i]], [0, V2[1][i]], color=colors[i], linewidth=2)\n",
    "\n",
    "# Setting the scale of x and y axis\n",
    "ax.set_xlim([-3, 3])\n",
    "ax.set_ylim([-3, 3])\n"
   ]
  },
  {
   "cell_type": "code",
   "execution_count": null,
   "metadata": {},
   "outputs": [],
   "source": [
    "# Plotting the result of multiplying V by M (along with the initial set, V) & conserved directions (eigenvalues)\n",
    "\n",
    "# Drawing the axes\n",
    "fig, ax = plt.subplots(figsize=(5,5))\n",
    "ax.set_aspect('equal')\n",
    "ax.axhline(0, color='.8', zorder=0)\n",
    "ax.axvline(0, color='.8', zorder=0)\n",
    "\n",
    "# Plotting the points\n",
    "plot_points(ax, V, colors=colors, zorder=1, alpha=.2)\n",
    "\n",
    "# Plotting the newpoints\n",
    "plot_points(ax, V2, colors=colors, zorder=3)\n",
    "plot_eigs(ax, M)\n",
    "\n",
    "# Setting the scale of x and y axis\n",
    "ax.set_xlim([-3, 3])\n",
    "ax.set_ylim([-3, 3])\n"
   ]
  }
 ],
 "metadata": {
  "kernelspec": {
   "display_name": "Python 3",
   "language": "python",
   "name": "python3"
  },
  "language_info": {
   "codemirror_mode": {
    "name": "ipython",
    "version": 3
   },
   "file_extension": ".py",
   "mimetype": "text/x-python",
   "name": "python",
   "nbconvert_exporter": "python",
   "pygments_lexer": "ipython3",
   "version": "3.7.2"
  },
  "toc": {
   "base_numbering": 1,
   "nav_menu": {},
   "number_sections": true,
   "sideBar": true,
   "skip_h1_title": false,
   "title_cell": "Table of Contents",
   "title_sidebar": "Contents",
   "toc_cell": false,
   "toc_position": {},
   "toc_section_display": true,
   "toc_window_display": false
  },
  "varInspector": {
   "cols": {
    "lenName": 16,
    "lenType": 16,
    "lenVar": 40
   },
   "kernels_config": {
    "python": {
     "delete_cmd_postfix": "",
     "delete_cmd_prefix": "del ",
     "library": "var_list.py",
     "varRefreshCmd": "print(var_dic_list())"
    },
    "r": {
     "delete_cmd_postfix": ") ",
     "delete_cmd_prefix": "rm(",
     "library": "var_list.r",
     "varRefreshCmd": "cat(var_dic_list()) "
    }
   },
   "types_to_exclude": [
    "module",
    "function",
    "builtin_function_or_method",
    "instance",
    "_Feature"
   ],
   "window_display": false
  }
 },
 "nbformat": 4,
 "nbformat_minor": 2
}
