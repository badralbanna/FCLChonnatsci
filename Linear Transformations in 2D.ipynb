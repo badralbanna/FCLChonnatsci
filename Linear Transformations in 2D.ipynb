{
 "cells": [
  {
   "cell_type": "markdown",
   "metadata": {},
   "source": [
    "# Setting up the notebook"
   ]
  },
  {
   "cell_type": "code",
   "execution_count": null,
   "metadata": {},
   "outputs": [],
   "source": [
    "import numpy as np\n",
    "import matplotlib.pylab as plt\n",
    "import matplotlib.animation as animation\n",
    "from matplotlib import cm\n",
    "from IPython.display import HTML\n",
    "from numpy import sqrt, cos, sin, tan"
   ]
  },
  {
   "cell_type": "markdown",
   "metadata": {},
   "source": [
    "# Plotting linear transformations on sets of points"
   ]
  },
  {
   "cell_type": "code",
   "execution_count": null,
   "metadata": {},
   "outputs": [],
   "source": [
    "# Creating a set of vectors arranged on a circle to vizualize\n",
    "\n",
    "R = 1.0\n",
    "N_POINTS = 60\n",
    "theta = np.linspace(0, 2*np.pi, N_POINTS, endpoint=False)\n",
    "V = np.array([(R*np.cos(i), R*np.sin(i)) for i in theta]).T\n",
    "hsv = cm.get_cmap('hsv', N_POINTS)\n",
    "colors = list(hsv(range(N_POINTS)))"
   ]
  },
  {
   "cell_type": "code",
   "execution_count": null,
   "metadata": {},
   "outputs": [],
   "source": [
    "theta"
   ]
  },
  {
   "cell_type": "code",
   "execution_count": null,
   "metadata": {},
   "outputs": [],
   "source": [
    "V"
   ]
  },
  {
   "cell_type": "code",
   "execution_count": null,
   "metadata": {},
   "outputs": [],
   "source": [
    "def plot_points(ax, points, colors='blue', marker='o', size=10.0, alpha=1.0, zorder=0):\n",
    "    if not isinstance(colors, list):\n",
    "        colors = len(points[0]) * [colors]   \n",
    "    out = ax.scatter(points[0,:], points[1,:], c=colors, marker=marker, s=size, alpha=alpha, zorder=zorder)\n",
    "    return(out)"
   ]
  },
  {
   "cell_type": "code",
   "execution_count": null,
   "metadata": {},
   "outputs": [],
   "source": [
    "# Plotting the initial set of points V and V_sel\n",
    "\n",
    "# Drawing the axes\n",
    "fig, ax = plt.subplots(figsize=(5,5))\n",
    "ax.set_aspect('equal')\n",
    "ax.axhline(0, color='.8', zorder=0)\n",
    "ax.axvline(0, color='.8', zorder=0)\n",
    "\n",
    "# Plotting the points\n",
    "a = plot_points(ax, V, colors=colors, zorder=1)\n",
    "\n",
    "# Setting the scale of x and y axis\n",
    "ax.set_xlim([-3, 3])\n",
    "ax.set_ylim([-3, 3])"
   ]
  },
  {
   "cell_type": "code",
   "execution_count": null,
   "metadata": {},
   "outputs": [],
   "source": [
    "# Definining the transformation\n",
    "M = np.array(\n",
    "    [[1, 0],\n",
    "     [0, 1]]\n",
    "    )\n",
    "\n",
    "# Matrix multiplicaton (@) of points V and V_sel by M\n",
    "V2 = M @ V"
   ]
  },
  {
   "cell_type": "code",
   "execution_count": null,
   "metadata": {},
   "outputs": [],
   "source": [
    "# Plotting the result of multiplying V and V_sel by M (along with the initial set)\n",
    "\n",
    "# Drawing the axes\n",
    "fig, ax = plt.subplots(figsize=(5,5))\n",
    "ax.set_aspect('equal')\n",
    "ax.axhline(0, color='.8', zorder=0)\n",
    "ax.axvline(0, color='.8', zorder=0)\n",
    "\n",
    "# Plotting the points\n",
    "plot_points(ax, V, colors=colors, zorder=1, alpha=.2)\n",
    "\n",
    "# Plotting the newpoints\n",
    "plot_points(ax, V2, colors=colors, zorder=3)\n",
    "\n",
    "# Setting the scale of x and y axis\n",
    "ax.set_xlim([-3, 3])\n",
    "ax.set_ylim([-3, 3])\n"
   ]
  },
  {
   "cell_type": "markdown",
   "metadata": {},
   "source": [
    "# Animating the flow"
   ]
  },
  {
   "cell_type": "code",
   "execution_count": null,
   "metadata": {},
   "outputs": [],
   "source": [
    "# Plotting the result of multiplying V and V_sel by M as an animation\n",
    "\n",
    "FRAMES = 100\n",
    "INTERVAL = 20\n",
    "DT = 0.0001\n",
    "\n",
    "# Drawing the axes\n",
    "fig, ax = plt.subplots(figsize=(5,5))\n",
    "ax.set_aspect('equal')\n",
    "ax.axhline(0, color='.8', zorder=0)\n",
    "ax.axvline(0, color='.8', zorder=0)\n",
    "\n",
    "# Setting the scale of x and y axis\n",
    "ax.set_xlim([-3, 3])\n",
    "ax.set_ylim([-3, 3])\n",
    "\n",
    "V2 = V[:]\n",
    "V2_sel = V_sel[:]\n",
    "\n",
    "# Animating \n",
    "def init():\n",
    "    a = plot_points(ax, V, colors=colors, zorder=1)\n",
    "    return a, b\n",
    "\n",
    "def animate(i):\n",
    "    ax.clear()\n",
    "    # Setting the scale of x and y axis\n",
    "    ax.set_xlim([-3, 3])\n",
    "    ax.set_ylim([-3, 3])\n",
    "    ax.set_aspect('equal')\n",
    "    ax.axhline(0, color='.8', zorder=0)\n",
    "    ax.axvline(0, color='.8', zorder=0)\n",
    "    \n",
    "    V2 = V[:]\n",
    "    V2_sel = V_sel[:]\n",
    "    for j in range(i): \n",
    "        V2 += DT * M @ V2\n",
    "        V2_sel += DT * M @ V2_sel\n",
    "    a = plot_points(ax, V2, colors=colors, zorder=1)\n",
    "    return a, b\n",
    "\n",
    "anim = animation.FuncAnimation(fig, animate, frames=FRAMES, interval=INTERVAL, blit=False, init_func=init)\n",
    "\n",
    "HTML(anim.to_html5_video())"
   ]
  },
  {
   "cell_type": "code",
   "execution_count": null,
   "metadata": {},
   "outputs": [],
   "source": []
  },
  {
   "cell_type": "code",
   "execution_count": null,
   "metadata": {},
   "outputs": [],
   "source": []
  }
 ],
 "metadata": {
  "kernelspec": {
   "display_name": "Python 3",
   "language": "python",
   "name": "python3"
  },
  "toc": {
   "base_numbering": 1,
   "nav_menu": {},
   "number_sections": true,
   "sideBar": true,
   "skip_h1_title": false,
   "title_cell": "Table of Contents",
   "title_sidebar": "Contents",
   "toc_cell": false,
   "toc_position": {},
   "toc_section_display": true,
   "toc_window_display": false
  },
  "varInspector": {
   "cols": {
    "lenName": 16,
    "lenType": 16,
    "lenVar": 40
   },
   "kernels_config": {
    "python": {
     "delete_cmd_postfix": "",
     "delete_cmd_prefix": "del ",
     "library": "var_list.py",
     "varRefreshCmd": "print(var_dic_list())"
    },
    "r": {
     "delete_cmd_postfix": ") ",
     "delete_cmd_prefix": "rm(",
     "library": "var_list.r",
     "varRefreshCmd": "cat(var_dic_list()) "
    }
   },
   "types_to_exclude": [
    "module",
    "function",
    "builtin_function_or_method",
    "instance",
    "_Feature"
   ],
   "window_display": false
  }
 },
 "nbformat": 4,
 "nbformat_minor": 2
}
