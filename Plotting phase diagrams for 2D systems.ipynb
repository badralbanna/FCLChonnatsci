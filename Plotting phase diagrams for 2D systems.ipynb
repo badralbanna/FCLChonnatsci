{
  "cells": [
    {
      "cell_type": "code",
      "execution_count": null,
      "metadata": {},
      "outputs": [],
      "source": [
        "import numpy as np\n",
        "from scipy.linalg import eig\n",
        "import matplotlib.pylab as plt\n",
        "from matplotlib import cm\n",
        "from numpy import sin, cos, tan, exp, pi, e"
      ]
    },
    {
      "cell_type": "markdown",
      "execution_count": null,
      "metadata": {},
      "outputs": [],
      "source": [
        "# Defining the variables and equations of motion"
      ]
    },
    {
      "cell_type": "code",
      "execution_count": null,
      "metadata": {},
      "outputs": [],
      "source": [
        "X_LABEL = \"x\"\n",
        "Y_LABEL = \"y\"\n",
        "\n",
        "def DXDT(x, y):\n",
        "    return(2*x + 3*y)\n",
        "    \n",
        "def DYDT(x, y):\n",
        "    return(2*x + 1*y)"
      ]
    },
    {
      "cell_type": "markdown",
      "execution_count": null,
      "metadata": {},
      "outputs": [],
      "source": [
        "# Rendering the phase portrait"
      ]
    },
    {
      "cell_type": "code",
      "execution_count": null,
      "metadata": {},
      "outputs": [],
      "source": [
        "# Setting plotting defaults \n",
        "X_MIN = -6\n",
        "X_MAX = 6\n",
        "Y_MIN = -6\n",
        "Y_MAX = 6\n",
        "RES = 0.5\n",
        "Q_SCALE = 2.0"
      ]
    },
    {
      "cell_type": "code",
      "execution_count": null,
      "metadata": {},
      "outputs": [],
      "source": [
        "# Finding critical points\n",
        "\n",
        "from scipy.optimize import fsolve\n",
        "from itertools import product\n",
        "\n",
        "## Needed for critical point solver, DO NOT CHANGE\n",
        "def DDT(arg):\n",
        "    x, y = arg\n",
        "    return(DXDT(x, y), DYDT(x, y))\n",
        "\n",
        "#\n",
        "epsilon = 0.00001\n",
        "res_c = 0.1\n",
        "\n",
        "x = np.arange(X_MIN, X_MAX, res_c)\n",
        "y = np.arange(Y_MIN, Y_MAX, res_c)\n",
        "X, Y = np.meshgrid(x, y)\n",
        "\n",
        "cp_x = []\n",
        "cp_y = []\n",
        "for x_0, y_0 in product(x, y):\n",
        "    x_c, y_c =  fsolve(DDT, (x_0, y_0))\n",
        "    if len(cp_x) == 0:\n",
        "        cp_x.append(x_c)\n",
        "        cp_y.append(y_c)\n",
        "    else:\n",
        "        d = np.sqrt((np.array(cp_x) - x_c)**2 + (np.array(cp_x) - y_c)**2)\n",
        "        if (d > epsilon).all():\n",
        "            cp_x.append(x_c)\n",
        "            cp_y.append(y_c)\n",
        "\n",
        "print(\"Critical points found at:\")            \n",
        "print([i for i in zip(cp_x,cp_y)])"
      ]
    },
    {
      "cell_type": "code",
      "execution_count": null,
      "metadata": {},
      "outputs": [],
      "source": [
        "# Creating the Grid for plotting\n",
        "x = np.arange(X_MIN, X_MAX, RES)\n",
        "y = np.arange(Y_MIN, Y_MAX, RES)\n",
        "X, Y = np.meshgrid(x, y)\n",
        "\n",
        "# Caculating the change vectors\n",
        "dxdt = Q_SCALE*DXDT(X, Y)\n",
        "dydt = Q_SCALE*DYDT(X, Y)"
      ]
    },
    {
      "cell_type": "code",
      "execution_count": null,
      "metadata": {},
      "outputs": [],
      "source": [
        "# Plotting the phase diagram\n",
        "\n",
        "fig = plt.figure(figsize=(6,6))\n",
        "ax = fig.add_subplot(1,1,1,aspect='equal')\n",
        "\n",
        "ax.axhline(0, color='.8')\n",
        "ax.axvline(0, color='.8')\n",
        "ax.scatter(cp_x, cp_y, s=100, color='blue', marker='o', facecolor='none')\n",
        "ax.quiver(x, y, dxdt, dydt, color='blue')\n",
        "\n",
        "ax.set_title(\"2D phase portrait\")\n",
        "ax.set_xlabel(X_LABEL)\n",
        "ax.set_ylabel(Y_LABEL)"
      ]
    },
    {
      "cell_type": "markdown",
      "execution_count": null,
      "metadata": {},
      "outputs": [],
      "source": [
        "# Approximating dynamics near the critical points"
      ]
    },
    {
      "cell_type": "code",
      "execution_count": null,
      "metadata": {},
      "outputs": [],
      "source": [
        "def linearize(x, y, dx_func, dy_func, D=0.000001):\n",
        "    L = np.array(\n",
        "        [[(dx_func(x+D,y) - dx_func(x-D,y)) / (2*D), (dx_func(x,y+D) - dx_func(x,y-D)) / (2*D)], \n",
        "        [(dy_func(x+D,y) - dy_func(x-D,y)) / (2*D), (dy_func(x,y+D) - dy_func(x,y-D)) / (2*D)]]\n",
        "    )\n",
        "    return(L)\n",
        "\n",
        "def prettyprint_eig(M):\n",
        "    vals, mat = eig(M)\n",
        "    for i in range(len(vals)):\n",
        "        if np.imag(vals[i]) == 0.0:\n",
        "            vals = np.array(vals, dtype='float')\n",
        "        print(f\"\\tEigenvalue {i+1} is {vals[i]:.3}, with vector ({mat[0,i]:.3}, {mat[1,i]:.3})\")"
      ]
    },
    {
      "cell_type": "code",
      "execution_count": null,
      "metadata": {},
      "outputs": [],
      "source": [
        "Ls = []\n",
        "for i, (x, y) in enumerate(zip(cp_x, cp_y)):\n",
        "    L = linearize(x, y, DXDT, DYDT)\n",
        "    Ls.append(L)\n",
        "    print(f\" At critical point #{i}, ({x}, {y}), the functions are approximated by \\n {L}\\n\")\n",
        "    "
      ]
    },
    {
      "cell_type": "code",
      "execution_count": null,
      "metadata": {},
      "outputs": [],
      "source": [
        "for i, (L, x, y) in enumerate(zip(Ls, cp_x, cp_y)):\n",
        "    print(f\"At critical point #{i}, ({x}, {y}),\")\n",
        "    prettyprint_eig(Ls[i])\n",
        "    print(\"\")"
      ]
    },
    {
      "cell_type": "markdown",
      "execution_count": null,
      "metadata": {},
      "outputs": [],
      "source": [
        "# Simulating solutions to the system "
      ]
    },
    {
      "cell_type": "code",
      "execution_count": null,
      "metadata": {},
      "outputs": [],
      "source": [
        "X_0 = 4 # starting x\n",
        "Y_0 = 1 # starting y\n",
        "T_f = 10 # final time\n",
        "\n",
        "DT = 0.1"
      ]
    },
    {
      "cell_type": "markdown",
      "execution_count": null,
      "metadata": {},
      "outputs": [],
      "source": [
        "## Euler's method"
      ]
    },
    {
      "cell_type": "code",
      "execution_count": null,
      "metadata": {},
      "outputs": [],
      "source": [
        "def Euler_next(x, y, dxdt, dydt, dt=DT):\n",
        "    x_next = x + dxdt(x,y)*dt\n",
        "    y_next = y + dydt(x,y)*dt\n",
        "    return(x_next, y_next)\n",
        "\n",
        "def simulate(x_0, y_0, t_f, simulation_function, dt=DT):\n",
        "    X_solution = [x_0]\n",
        "    Y_solution = [y_0]\n",
        "    T = np.arange(dt, t_f, dt)\n",
        "    for t in T[1:]:\n",
        "        x_previous, y_previous = X_solution[-1], Y_solution[-1]\n",
        "        x_next, y_next = simulation_function(x_previous, y_previous, DXDT, DYDT, dt=dt)\n",
        "        X_solution.append(x_next)\n",
        "        Y_solution.append(y_next)\n",
        "    return (T, X_solution, Y_solution)\n",
        "\n",
        "def simulate_collection(X_0s, Y_0s, t_f, simulation_function, dt=DT):\n",
        "    X = []\n",
        "    Y = []\n",
        "    for X_0, Y_0 in zip(X_0s, Y_0s):\n",
        "        T, X_sol, Y_sol = simulate(X_0, Y_0, t_f, simulation_function, dt=DT)\n",
        "        X.append(X_sol)\n",
        "        Y.append(Y_sol)\n",
        "    return T, X, Y"
      ]
    },
    {
      "cell_type": "markdown",
      "execution_count": null,
      "metadata": {},
      "outputs": [],
      "source": [
        "### Simulating Euler's method"
      ]
    },
    {
      "cell_type": "code",
      "execution_count": null,
      "metadata": {},
      "outputs": [],
      "source": [
        "T, X_euler, Y_euler = simulate(X_0, Y_0, T_f, Euler_next)"
      ]
    },
    {
      "cell_type": "code",
      "execution_count": null,
      "metadata": {},
      "outputs": [],
      "source": [
        "X_euler[:10]"
      ]
    },
    {
      "cell_type": "code",
      "execution_count": null,
      "metadata": {},
      "outputs": [],
      "source": [
        "Y_euler[:10]"
      ]
    },
    {
      "cell_type": "markdown",
      "execution_count": null,
      "metadata": {},
      "outputs": [],
      "source": [
        "### Graphing the simulation"
      ]
    },
    {
      "cell_type": "code",
      "execution_count": null,
      "metadata": {},
      "outputs": [],
      "source": [
        "def plot_solution(T, X_solutions, Y_solutions, colors=['.k']):\n",
        "    fig, (ax, ax_x, ax_y) = plt.subplots(figsize=(12,4), ncols=3)\n",
        "\n",
        "    # Creating the Grid for plotting\n",
        "    x = np.arange(X_MIN, X_MAX, RES)\n",
        "    y = np.arange(Y_MIN, Y_MAX, RES)\n",
        "    X, Y = np.meshgrid(x, y)\n",
        "\n",
        "    # Caculating the change vectors\n",
        "    dxdt = Q_SCALE*DXDT(X, Y)\n",
        "    dydt = Q_SCALE*DYDT(X, Y)\n",
        "    \n",
        "    ax.set_aspect('equal')\n",
        "    ax.axhline(0, color='.8')\n",
        "    ax.axvline(0, color='.8')\n",
        "    ax.scatter(cp_x, cp_y, s=100, color='blue', marker='o', facecolor='none')\n",
        "    ax.quiver(x, y, dxdt, dydt, color='blue')\n",
        "\n",
        "    ax.set_title(\"2D phase portrait\")\n",
        "    ax.set_xlabel(X_LABEL)\n",
        "    ax.set_ylabel(Y_LABEL)\n",
        "    ax.set_xlim([X_MIN, X_MAX])\n",
        "    ax.set_ylim([Y_MIN, Y_MAX])\n",
        "    \n",
        "    assert len(X_solutions) == len(Y_solutions)\n",
        "    if len(colors) != len(X_solutions):\n",
        "        colors = len(X_solutions) * colors\n",
        "    for X_solution, Y_solution, color in zip(X_solutions, Y_solutions, colors):\n",
        "        ax.plot(X_solution, Y_solution, color=color)\n",
        "        ax.scatter(X_solution[0], Y_solution[0], color=color, zorder=10, s=10.0)\n",
        "\n",
        "        ax_x.set_title(\"{0} vs. time\".format(X_LABEL))\n",
        "        ax_x.plot(T, X_solution, color=color)\n",
        "        ax_x.axhline(0, color='.8', zorder=-1)\n",
        "        ax_x.scatter(T[0], X_solution[0], color=color, zorder=10, s=10.0)\n",
        "        ax_x.set_ylabel(X_LABEL)\n",
        "        ax_x.set_xlabel(\"Time\")\n",
        "        ax_x.set_ylim([X_MIN, X_MAX])\n",
        "\n",
        "        ax_y.set_title(\"{0} vs. time\".format(Y_LABEL))\n",
        "        ax_y.plot(T, Y_solution, color=color)\n",
        "        ax_y.axhline(0, color='.8', zorder=-1)\n",
        "        ax_y.scatter(T[0], Y_solution[0], color=color, zorder=10, s=10.0)\n",
        "        ax_y.set_ylabel(Y_LABEL)\n",
        "        ax_y.set_xlabel(\"Time\")\n",
        "        ax_y.set_ylim([Y_MIN, Y_MAX])"
      ]
    },
    {
      "cell_type": "code",
      "execution_count": null,
      "metadata": {},
      "outputs": [],
      "source": [
        "plot_solution(T, [X_euler], [Y_euler], colors=['k'])"
      ]
    },
    {
      "cell_type": "markdown",
      "execution_count": null,
      "metadata": {},
      "outputs": [],
      "source": [
        "## The midpoint method"
      ]
    },
    {
      "cell_type": "code",
      "execution_count": null,
      "metadata": {},
      "outputs": [],
      "source": [
        "X_0 = 0 # starting x\n",
        "Y_0 = 1 # starting y\n",
        "T_f = 4*pi # final time\n",
        "\n",
        "DT = 0.01"
      ]
    },
    {
      "cell_type": "code",
      "execution_count": null,
      "metadata": {},
      "outputs": [],
      "source": [
        "def midpoint_next(x, y, dxdt, dydt, dt=DT):\n",
        "    x_test = x + dxdt(x,y)*dt\n",
        "    y_test = y + dydt(x,y)*dt\n",
        "    \n",
        "    x_next = x + dxdt((x + x_test)/2., (y + y_test)/2)*dt\n",
        "    y_next = y + dydt((x + x_test)/2., (y + y_test)/2)*dt\n",
        "    \n",
        "    return(x_next, y_next)"
      ]
    },
    {
      "cell_type": "markdown",
      "execution_count": null,
      "metadata": {},
      "outputs": [],
      "source": [
        "### Simulating "
      ]
    },
    {
      "cell_type": "code",
      "execution_count": null,
      "metadata": {},
      "outputs": [],
      "source": [
        "T, X_euler, Y_euler = simulate(X_0, Y_0, T_f, Euler_next)\n",
        "T, X_mid, Y_mid = simulate(X_0, Y_0, T_f, midpoint_next)"
      ]
    },
    {
      "cell_type": "markdown",
      "execution_count": null,
      "metadata": {},
      "outputs": [],
      "source": [
        "### Graphing the simulation"
      ]
    },
    {
      "cell_type": "code",
      "execution_count": null,
      "metadata": {},
      "outputs": [],
      "source": [
        "plot_solution(T, [X_mid], [Y_mid], colors=['b'])"
      ]
    },
    {
      "cell_type": "markdown",
      "execution_count": null,
      "metadata": {},
      "outputs": [],
      "source": [
        "## Comparing Midpoint method with Euler method"
      ]
    },
    {
      "cell_type": "code",
      "execution_count": null,
      "metadata": {},
      "outputs": [],
      "source": [
        "plot_solution(T, [X_euler, X_mid], [Y_euler, Y_mid], colors=['k', 'b'])"
      ]
    },
    {
      "cell_type": "markdown",
      "execution_count": null,
      "metadata": {},
      "outputs": [],
      "source": [
        "## Plotting a series of trajectories"
      ]
    },
    {
      "cell_type": "code",
      "execution_count": null,
      "metadata": {},
      "outputs": [],
      "source": [
        "X_MIN = -6\n",
        "X_MAX = 6\n",
        "Y_MIN = -6\n",
        "Y_MAX = 6\n",
        "\n",
        "X_0s = np.arange(-6, 8, 1)\n",
        "Y_0s = len(X_0s)*[-1]\n",
        "T_f = 2"
      ]
    },
    {
      "cell_type": "code",
      "execution_count": null,
      "metadata": {},
      "outputs": [],
      "source": [
        "T, X, Y = simulate_collection(X_0s, Y_0s, T_f, midpoint_next)\n",
        "colors = [cm.cool(i / float(len(X))) for i in range(len(X))]\n",
        "plot_solution(T, X, Y, colors=colors)"
      ]
    },
    {
      "cell_type": "code",
      "execution_count": null,
      "metadata": {},
      "outputs": [],
      "source": []
    }
  ],
  "metadata": {
    "kernelspec": {
      "display_name": "Python 3",
      "language": "python",
      "name": "python3"
    },
    "language_info": {
      "name": "python",
      "version": "2.7.17-final",
      "mimetype": "text/x-python",
      "codemirror_mode": {
        "name": "ipython",
        "version": 3
      },
      "pygments_lexer": "ipython3",
      "nbconvert_exporter": "python",
      "file_extension": ".py"
    },
    "toc": {
      "toc_position": {},
      "skip_h1_title": false,
      "number_sections": true,
      "title_cell": "Table of Contents",
      "toc_window_display": false,
      "base_numbering": 1,
      "toc_section_display": true,
      "title_sidebar": "Contents",
      "toc_cell": false,
      "nav_menu": {},
      "sideBar": true
    },
    "varInspector": {
      "cols": {
        "lenName": 16,
        "lenType": 16,
        "lenVar": 40
      },
      "kernels_config": {
        "python": {
          "delete_cmd_postfix": "",
          "delete_cmd_prefix": "del ",
          "library": "var_list.py",
          "varRefreshCmd": "print(var_dic_list())"
        },
        "r": {
          "delete_cmd_postfix": ") ",
          "delete_cmd_prefix": "rm(",
          "library": "var_list.r",
          "varRefreshCmd": "cat(var_dic_list()) "
        }
      },
      "types_to_exclude": [
        "module",
        "function",
        "builtin_function_or_method",
        "instance",
        "_Feature"
      ],
      "window_display": false
    },
    "nteract": {
      "version": "0.21.0"
    }
  },
  "nbformat": 4,
  "nbformat_minor": 2
}