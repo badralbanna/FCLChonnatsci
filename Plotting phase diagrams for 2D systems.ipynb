{
  "cells": [
    {
      "cell_type": "code",
      "source": [
        "import numpy as np\n",
        "from scipy.linalg import eig\n",
        "import matplotlib.pylab as plt\n",
        "from matplotlib import cm\n",
        "from numpy import sin, cos, tan, exp, pi, e"
      ],
      "outputs": [],
      "execution_count": 2,
      "metadata": {
        "execution": {
          "iopub.status.busy": "2020-04-29T20:03:09.541Z",
          "iopub.execute_input": "2020-04-29T20:03:09.550Z",
          "iopub.status.idle": "2020-04-29T20:03:09.563Z",
          "shell.execute_reply": "2020-04-29T20:03:09.570Z"
        }
      }
    },
    {
      "cell_type": "markdown",
      "source": [
        "# Defining the variables and equations of motion"
      ],
      "metadata": {}
    },
    {
      "cell_type": "code",
      "source": [
        "X_LABEL = \"S\"\n",
        "Y_LABEL = \"R\"\n",
        "\n",
        "def DXDT(x, y):\n",
        "    return(x*(2 - x - y))\n",
        "    \n",
        "def DYDT(x, y):\n",
        "    return(y*(3 - y - 2*x))"
      ],
      "outputs": [],
      "execution_count": 3,
      "metadata": {
        "execution": {
          "iopub.status.busy": "2020-04-29T20:03:12.460Z",
          "iopub.execute_input": "2020-04-29T20:03:12.470Z",
          "iopub.status.idle": "2020-04-29T20:03:12.484Z",
          "shell.execute_reply": "2020-04-29T20:03:12.492Z"
        }
      }
    },
    {
      "cell_type": "markdown",
      "source": [
        "# Rendering the phase portrait"
      ],
      "metadata": {}
    },
    {
      "cell_type": "code",
      "source": [
        "from scipy.optimize import fsolve, root\n",
        "from itertools import product\n",
        "\n",
        "## Function to find the critical points, (do not change)\n",
        "def find_critical_points(dxdt, dydt, epsilon=0.0001, res_c=0.1, xlim=(-3, 3), ylim=(-3, 3)):\n",
        "    ## Helper function needed for fsolve\n",
        "    def DDT(arg):\n",
        "        x, y = arg\n",
        "        return(dxdt(x, y), dydt(x, y))\n",
        "\n",
        "    ## Creating a grid to search for critical points\n",
        "    x = np.arange(*xlim, res_c)\n",
        "    y = np.arange(*ylim, res_c)\n",
        "    X, Y = np.meshgrid(x, y)\n",
        "\n",
        "    ## Finding the critical points\n",
        "    cp_x = []\n",
        "    cp_y = []\n",
        "    for x_0, y_0 in product(x, y):\n",
        "        x_c, y_c = fsolve(DDT, (x_0, y_0), factor=1.0)\n",
        "        decimals = -int(np.log10(epsilon))\n",
        "        x_c = np.round(x_c, decimals=decimals)\n",
        "        y_c = np.round(y_c, decimals=decimals)\n",
        "        if (x_c < xlim[0]) or (x_c > xlim[1]) or (y_c < ylim[0]) or (y_c > xlim[1]):\n",
        "            continue\n",
        "        if len(cp_x) == 0:\n",
        "            cp_x.append(x_c)\n",
        "            cp_y.append(y_c)\n",
        "        else:\n",
        "            d = np.sqrt((np.array(cp_x) - x_c)**2 + (np.array(cp_y) - y_c)**2)\n",
        "            if (d > epsilon).all():\n",
        "                cp_x.append(x_c)\n",
        "                cp_y.append(y_c)\n",
        "\n",
        "    ## Sorting the lists of critical points\n",
        "    cp_x = np.array(cp_x)\n",
        "    cp_y = np.array(cp_y)\n",
        "\n",
        "    sort_x = np.argsort(cp_x)\n",
        "    cp_x = cp_x[sort_x]\n",
        "    cp_y = cp_y[sort_x]\n",
        "    sort_y = np.argsort(cp_y)\n",
        "    cp_x = cp_x[sort_y]\n",
        "    cp_y = cp_y[sort_y]\n",
        "\n",
        "    print(\"Critical points found at:\")            \n",
        "    print([i for i in zip(cp_x, cp_y)])\n",
        "    print()\n",
        "    return cp_x, cp_y\n",
        "\n",
        "# Function for plotting the phase diagram (do not change)\n",
        "def plot_2D_phase_space(dxdt, dydt, xlim=(-3, 3), ylim=(-3, 3), res=RES, q_scale=Q_SCALE, x_label=X_LABEL, y_label=Y_LABEL, ax=None, figsize=(6,6)):\n",
        "    if ax == None:\n",
        "        fig = plt.figure(figsize=figsize)\n",
        "        ax = fig.add_subplot(1,1,1,aspect='equal')\n",
        "\n",
        "    ## Creating the Grid for plotting\n",
        "    x = np.arange(*xlim, res)\n",
        "    y = np.arange(*ylim, res)\n",
        "    X, Y = np.meshgrid(x, y)\n",
        "\n",
        "    ## Caculating the change vectors\n",
        "    dxdt_q = q_scale*dxdt(X, Y)\n",
        "    dydt_q = q_scale*dydt(X, Y)\n",
        "\n",
        "    ## Finding critical points \n",
        "    cp_x, cp_y = find_critical_points(dxdt, dydt, xlim=xlim, ylim=ylim)\n",
        "\n",
        "    ## Plotting quivers and critical points\n",
        "    ax.axhline(0, color='.8')\n",
        "    ax.axvline(0, color='.8')\n",
        "    ax.set_xlim(xlim)\n",
        "    ax.scatter(cp_x, cp_y, s=100, color='blue', marker='o', facecolor='none')\n",
        "    ax.quiver(x, y, dxdt_q, dydt_q, color='blue')\n",
        "    ax.set_title(\"2D phase portrait\")\n",
        "    ax.set_ylim(ylim)\n",
        "    ax.set_xlabel(X_LABEL)\n",
        "    ax.set_ylabel(Y_LABEL)"
      ],
      "outputs": [],
      "execution_count": 6,
      "metadata": {
        "execution": {
          "iopub.status.busy": "2020-04-29T20:03:38.062Z",
          "iopub.execute_input": "2020-04-29T20:03:38.069Z",
          "iopub.status.idle": "2020-04-29T20:03:38.082Z",
          "shell.execute_reply": "2020-04-29T20:03:38.107Z"
        }
      }
    },
    {
      "cell_type": "code",
      "source": [
        "# Setting plotting defaults\n",
        "X_MIN = -6 # minimum X value shown\n",
        "X_MAX = 6 # maximum X value shown\n",
        "Y_MIN = -6 # minimum Y value shown\n",
        "Y_MAX = 6 # maximum Y value shown\n",
        "\n",
        "RES = 0.5 # spacing between arrows for the quiver plot), don't need to change\n",
        "Q_SCALE = 2.0 # scale factor to stretch quivers when plotted (for visibility), don't need to change"
      ],
      "outputs": [],
      "execution_count": 5,
      "metadata": {
        "execution": {
          "iopub.status.busy": "2020-04-29T20:03:14.974Z",
          "iopub.execute_input": "2020-04-29T20:03:14.982Z",
          "iopub.status.idle": "2020-04-29T20:03:14.996Z",
          "shell.execute_reply": "2020-04-29T20:03:15.003Z"
        }
      }
    },
    {
      "cell_type": "code",
      "source": [
        "plot_2D_phase_space(DXDT, DYDT, xlim=(X_MIN, X_MAX), ylim=(Y_MIN, Y_MAX), res=RES, q_scale=Q_SCALE)"
      ],
      "outputs": [],
      "execution_count": null,
      "metadata": {}
    },
    {
      "cell_type": "markdown",
      "source": [
        "# Simulating solutions to the system "
      ],
      "metadata": {}
    },
    {
      "cell_type": "markdown",
      "source": [
        "## Euler's method"
      ],
      "metadata": {}
    },
    {
      "cell_type": "code",
      "source": [
        "# Functions implimenting Euler's method\n",
        "def find_next_point_Euler(x, y, dxdt, dydt, dt=0.001):\n",
        "    x_next = x + dxdt(x,y)*dt\n",
        "    y_next = y + dydt(x,y)*dt\n",
        "    return(x_next, y_next)\n",
        "\n",
        "def simulate(x_0, y_0, t_f, dxdt, dydt, simulation_function, dt=0.001):\n",
        "    X_solution = [x_0]\n",
        "    Y_solution = [y_0]\n",
        "    T = np.arange(dt, t_f, dt)\n",
        "    for t in T[1:]:\n",
        "        x_previous, y_previous = X_solution[-1], Y_solution[-1]\n",
        "        x_next, y_next = simulation_function(x_previous, y_previous, dxdt, dydt, dt=dt)\n",
        "        X_solution.append(x_next)\n",
        "        Y_solution.append(y_next)\n",
        "    return (T, X_solution, Y_solution)\n",
        "\n",
        "def simulate_collection(X_0s, Y_0s, t_f, dxdt, dydt, simulation_function, dt=0.001):\n",
        "    X = []\n",
        "    Y = []\n",
        "    for X_0, Y_0 in zip(X_0s, Y_0s):\n",
        "        T, X_sol, Y_sol = simulate(X_0, Y_0, t_f, dxdt, dydt, simulation_function, dt=dt)\n",
        "        X.append(X_sol)\n",
        "        Y.append(Y_sol)\n",
        "    return T, X, Y"
      ],
      "outputs": [],
      "execution_count": null,
      "metadata": {}
    },
    {
      "cell_type": "markdown",
      "source": [
        "### Simulating Euler's method"
      ],
      "metadata": {}
    },
    {
      "cell_type": "code",
      "source": [
        "X_0 = 0.5 # starting x\n",
        "Y_0 = .5 # starting y\n",
        "T_f = 20 # final time (starting time is always T=0)\n",
        "\n",
        "DT = 0.0001 # Simulation timestep, smaller is more accurate"
      ],
      "outputs": [],
      "execution_count": null,
      "metadata": {}
    },
    {
      "cell_type": "code",
      "source": [
        "# Simulating system starting at X_0, Y_0 from time=0 to T_f using Euler's method\n",
        "T, X_euler, Y_euler = simulate(X_0, Y_0, T_f, DXDT, DXDT, find_next_point_Euler, dt=DT)"
      ],
      "outputs": [],
      "execution_count": null,
      "metadata": {}
    },
    {
      "cell_type": "code",
      "source": [
        "# First 10 timesteps\n",
        "T[:10]"
      ],
      "outputs": [],
      "execution_count": null,
      "metadata": {}
    },
    {
      "cell_type": "code",
      "source": [
        "# First 10 X values calculated by Euler's method \n",
        "X_euler[:10]"
      ],
      "outputs": [],
      "execution_count": null,
      "metadata": {}
    },
    {
      "cell_type": "code",
      "source": [
        "# First 10 X values calculated by Euler's method \n",
        "Y_euler[:10]"
      ],
      "outputs": [],
      "execution_count": null,
      "metadata": {}
    },
    {
      "cell_type": "markdown",
      "source": [
        "### Graphing the Euler's method simulation"
      ],
      "metadata": {}
    },
    {
      "cell_type": "code",
      "source": [
        "# Function to plot phase space diagram w/ critical points \n",
        "from itertools import product\n",
        "\n",
        "def plot_solutions(T_f, X_0s, Y_0s, dxdt, dydt, simulation_functions, colors=['.k'],dt=DT, xlim=(X_MIN, X_MAX), ylim=(Y_MIN, Y_MAX), res=RES, q_scale=Q_SCALE, x_label=X_LABEL, y_label=Y_LABEL):\n",
        "    fig, (ax, ax_x, ax_y) = plt.subplots(figsize=(12,4), ncols=3)\n",
        "    plot_2D_phase_space(dxdt, dydt, xlim=xlim, ylim=ylim, res=res, q_scale=q_scale, x_label=x_label, y_label=y_label, ax=ax)\n",
        "    ax.set_aspect(aspect='equal')\n",
        "\n",
        "    X_solutions = []\n",
        "    Y_solutions = []\n",
        "    for simulation_function, (X_0, Y_0) in product(simulation_functions, zip(X_0s, Y_0s)):\n",
        "        T, X_solution, Y_solution = simulate(X_0, Y_0, T_f, dxdt, dydt, simulation_function, dt=dt)\n",
        "        X_solutions.append(X_solution)\n",
        "        Y_solutions.append(Y_solution)\n",
        "\n",
        "    if len(colors) != len(X_solutions):\n",
        "        colors = len(X_solutions) * colors\n",
        "\n",
        "    for X_solution, Y_solution, color in zip(X_solutions, Y_solutions, colors):\n",
        "        ax.plot(X_solution, Y_solution, color=color)\n",
        "        ax.scatter(X_solution[0], Y_solution[0], color=color, zorder=10, s=10.0)\n",
        "\n",
        "        ax_x.set_title(\"{0} vs. time\".format(X_LABEL))\n",
        "        ax_x.plot(T, X_solution, color=color)\n",
        "        ax_x.axhline(0, color='.8', zorder=-1)\n",
        "        ax_x.scatter(T[0], X_solution[0], color=color, zorder=10, s=10.0)\n",
        "        ax_x.set_ylabel(X_LABEL)\n",
        "        ax_x.set_xlabel(\"Time\")\n",
        "        ax_x.set_ylim(xlim)\n",
        "\n",
        "        ax_y.set_title(\"{0} vs. time\".format(Y_LABEL))\n",
        "        ax_y.plot(T, Y_solution, color=color)\n",
        "        ax_y.axhline(0, color='.8', zorder=-1)\n",
        "        ax_y.scatter(T[0], Y_solution[0], color=color, zorder=10, s=10.0)\n",
        "        ax_y.set_ylabel(Y_LABEL)\n",
        "        ax_y.set_xlabel(\"Time\")\n",
        "        ax_y.set_ylim(ylim)"
      ],
      "outputs": [],
      "execution_count": null,
      "metadata": {}
    },
    {
      "cell_type": "code",
      "source": [
        "X_MIN = -6 # minimum X value shown\n",
        "X_MAX = 6 # maximum X value shown\n",
        "Y_MIN = -6 # minimum X value shown\n",
        "Y_MAX = 6 # maximum X value shown\n",
        "\n",
        "RES = 0.5 # spacing between arrows for the quiver plot), don't need to change\n",
        "Q_SCALE = 2.0 # scale factor to stretch quivers when plotted (for visibility), don't need to change"
      ],
      "outputs": [],
      "execution_count": null,
      "metadata": {}
    },
    {
      "cell_type": "markdown",
      "source": [
        "## dt = 0.5"
      ],
      "metadata": {}
    },
    {
      "cell_type": "code",
      "source": [
        "plot_solutions(T_f, [X_0], [Y_0], DXDT, DYDT, [find_next_point_Euler], colors=['k'], dt=0.5, xlim=(X_MIN, X_MAX), ylim=(Y_MIN, Y_MAX))"
      ],
      "outputs": [],
      "execution_count": null,
      "metadata": {}
    },
    {
      "cell_type": "markdown",
      "source": [
        "## dt = 0.01 "
      ],
      "metadata": {}
    },
    {
      "cell_type": "code",
      "source": [
        "plot_solutions(T_f, [X_0], [Y_0], DXDT, DYDT, [find_next_point_Euler], colors=['k'], dt=0.01, xlim=(X_MIN, X_MAX), ylim=(Y_MIN, Y_MAX))"
      ],
      "outputs": [],
      "execution_count": null,
      "metadata": {}
    },
    {
      "cell_type": "markdown",
      "source": [
        "## The midpoint method aka Rundge Kutta order 2 (RK2)"
      ],
      "metadata": {}
    },
    {
      "cell_type": "code",
      "source": [
        "# Function implimenting the midpoint method aka RK2\n",
        "def find_next_point_midpoint(x, y, dxdt, dydt, dt=DT):\n",
        "    x_test = x + dxdt(x,y)*dt\n",
        "    y_test = y + dydt(x,y)*dt\n",
        "    \n",
        "    x_next = x + dxdt((x + x_test)/2., (y + y_test)/2)*dt\n",
        "    y_next = y + dydt((x + x_test)/2., (y + y_test)/2)*dt\n",
        "    \n",
        "    return(x_next, y_next)"
      ],
      "outputs": [],
      "execution_count": null,
      "metadata": {}
    },
    {
      "cell_type": "markdown",
      "source": [
        "### Graphing the RK2 simulation"
      ],
      "metadata": {}
    },
    {
      "cell_type": "code",
      "source": [
        "X_0 = 0.5 # starting x value\n",
        "Y_0 = 0.5 # starting y value\n",
        "T_f = 4*pi # final time, initial time is always 0\n",
        "\n",
        "DT = 0.1 # simulation timestep\n",
        "\n",
        "X_MIN = -6 # minimum X value shown\n",
        "X_MAX = 6 # maximum X value shown\n",
        "Y_MIN = -6 # minimum X value shown\n",
        "Y_MAX = 6 # maximum X value shown\n",
        "\n",
        "RES = 0.5 # spacing between arrows for the quiver plot), don't need to change\n",
        "Q_SCALE = 2.0 # scale factor to stretch quivers when plotted (for visibility), don't need to change"
      ],
      "outputs": [],
      "execution_count": null,
      "metadata": {}
    },
    {
      "cell_type": "code",
      "source": [
        "plot_solutions(T_f, [X_0], [Y_0], DXDT, DYDT, [find_next_point_midpoint], colors=['b'], dt=DT, xlim=(X_MIN, X_MAX), ylim=(Y_MIN, Y_MAX))"
      ],
      "outputs": [],
      "execution_count": null,
      "metadata": {}
    },
    {
      "cell_type": "markdown",
      "source": [
        "## Comparing Midpoint method with Euler method"
      ],
      "metadata": {}
    },
    {
      "cell_type": "markdown",
      "source": [
        "## dt = 0.2"
      ],
      "metadata": {}
    },
    {
      "cell_type": "code",
      "source": [
        "plot_solutions(T_f, [X_0], [Y_0], DXDT, DYDT, [find_next_point_Euler, find_next_point_midpoint], colors=['k', 'b'], dt=0.2)"
      ],
      "outputs": [],
      "execution_count": null,
      "metadata": {}
    },
    {
      "cell_type": "markdown",
      "source": [
        "## dt = 0.01"
      ],
      "metadata": {}
    },
    {
      "cell_type": "code",
      "source": [
        "plot_solutions(T_f, [X_0], [Y_0], DXDT, DYDT, [find_next_point_Euler, find_next_point_midpoint], colors=['k', 'b'], dt=0.01)"
      ],
      "outputs": [],
      "execution_count": null,
      "metadata": {}
    },
    {
      "cell_type": "markdown",
      "source": [
        "## Plotting a set of trajectories"
      ],
      "metadata": {}
    },
    {
      "cell_type": "code",
      "source": [
        "X_MIN = -6 # minimum X value shown\n",
        "X_MAX = 6 # maximum X value shown\n",
        "Y_MIN = -6 # minimum Y value shown\n",
        "Y_MAX = 6 # maximum Y value shown\n",
        "\n",
        "X_0s = [1, 2, 3, 4, 5] # list of starting X values\n",
        "Y_0s = [5, 4, 3, 2, 1] # list of starting Y values\n",
        "T_f = 10 # Final simulation time, initial time is 0\n",
        "\n",
        "RES = 0.5 # spacing between arrows for the quiver plot), don't need to change\n",
        "Q_SCALE = 2.0 # scale factor to stretch quivers when plotted (for visibility), don't need to change"
      ],
      "outputs": [],
      "execution_count": null,
      "metadata": {}
    },
    {
      "cell_type": "code",
      "source": [
        "plot_solutions(T_f, X_0s, Y_0s, DXDT, DYDT, [find_next_point_midpoint], colors=[cm.cool(i / float(len(X_0s))) for i in range(len(X_0s))], dt=0.001, xlim=(X_MIN, X_MAX), ylim=(Y_MIN, Y_MAX), res=RES, q_scale=Q_SCALE)"
      ],
      "outputs": [],
      "execution_count": null,
      "metadata": {}
    },
    {
      "cell_type": "markdown",
      "source": [
        "# Approximating dynamics near the critical points"
      ],
      "metadata": {}
    },
    {
      "cell_type": "code",
      "source": [
        "# Some functions to \"linearize\" a system near crtical points and find eigenvalues and vectors there \n",
        "\n",
        "# Function to \"linearize\" non-linear systems near a point (do not change)\n",
        "def linearize(x, y, dx_func, dy_func, D=0.000001):\n",
        "    L = np.array(\n",
        "        [[(dx_func(x+D,y) - dx_func(x-D,y)) / (2*D), (dx_func(x,y+D) - dx_func(x,y-D)) / (2*D)], \n",
        "        [(dy_func(x+D,y) - dy_func(x-D,y)) / (2*D), (dy_func(x,y+D) - dy_func(x,y-D)) / (2*D)]]\n",
        "    )\n",
        "    return(L)\n",
        "\n",
        "# Function to \"linearize\" non-linear system near all critical points \n",
        "def linearize_all_critical_points(dxdt, dydt, xlim=(X_MIN, X_MAX), ylim=(Y_MIN, Y_MAX)):\n",
        "    cp_x, cp_y = find_critical_points(dxdt, dydt, xlim=xlim, ylim=ylim)\n",
        "    Ls = []\n",
        "    for i, (x, y) in enumerate(zip(cp_x, cp_y)):\n",
        "        L = linearize(x, y, DXDT, DYDT)\n",
        "        Ls.append(L)\n",
        "        print(f\" At critical point #{i}, ({x}, {y}), the functions are approximated by \\n {L}\\n\")\n",
        "    return Ls, cp_x, cp_y\n",
        "\n",
        "# Function to find and print eigenvalues and eigenvectors of a matrix (do not change)\n",
        "def find_eigenvalues_and_eigenvectors(M):\n",
        "    vals, mat = eig(M)\n",
        "    for i in range(len(vals)):\n",
        "        if np.imag(vals[i]) == 0.0:\n",
        "            vals = np.array(vals, dtype='float')\n",
        "        print(f\"\\tEigenvalue {i+1} is {vals[i]:.3}, with vector ({mat[0,i]:.3}, {mat[1,i]:.3})\")\n",
        "    return vals, mat\n",
        "\n",
        "# A function to find and print eigenvalues and eigenvectors at all crtiical points (do not change)\n",
        "def find_all_critcal_eigenvalues_and_eigenvectors(dxdt, dydt, xlim=(X_MIN, X_MAX), ylim=(Y_MIN, Y_MAX)):\n",
        "    Ls, cp_x, cp_y = linearize_all_critical_points(dxdt, dydt)\n",
        "    vals = []\n",
        "    mats = []\n",
        "    for i, (L, x, y) in enumerate(zip(Ls, cp_x, cp_y)):\n",
        "        print(f\"At critical point #{i}, ({x}, {y}),\")\n",
        "        val, mat = find_eigenvalues_and_eigenvectors(Ls[i])\n",
        "        print(\"\")\n",
        "        vals.append(val)\n",
        "        mats.append(mat)\n",
        "    return vals, mats, Ls, cp_x, cp_y"
      ],
      "outputs": [],
      "execution_count": null,
      "metadata": {}
    },
    {
      "cell_type": "code",
      "source": [
        "Ls, cp_x, cp_y = linearize_all_critical_points(DXDT, DYDT, xlim=(X_MIN, X_MAX), ylim=(Y_MIN, Y_MAX))    "
      ],
      "outputs": [],
      "execution_count": null,
      "metadata": {}
    },
    {
      "cell_type": "code",
      "source": [
        "vals, mats, Ls, cp_x, cp_y = find_all_critcal_eigenvalues_and_eigenvectors(DXDT, DYDT, xlim=(X_MIN, X_MAX), ylim=(Y_MIN, Y_MAX))"
      ],
      "outputs": [],
      "execution_count": null,
      "metadata": {}
    },
    {
      "cell_type": "code",
      "source": [],
      "outputs": [],
      "execution_count": null,
      "metadata": {}
    }
  ],
  "metadata": {
    "kernelspec": {
      "display_name": "Python 3",
      "language": "python",
      "name": "python3"
    },
    "language_info": {
      "name": "python",
      "version": "3.7.2",
      "mimetype": "text/x-python",
      "codemirror_mode": {
        "name": "ipython",
        "version": 3
      },
      "pygments_lexer": "ipython3",
      "nbconvert_exporter": "python",
      "file_extension": ".py"
    },
    "nteract": {
      "version": "0.22.4"
    },
    "toc": {
      "toc_position": {},
      "skip_h1_title": false,
      "number_sections": true,
      "title_cell": "Table of Contents",
      "toc_window_display": false,
      "base_numbering": 1,
      "toc_section_display": true,
      "title_sidebar": "Contents",
      "toc_cell": false,
      "nav_menu": {},
      "sideBar": true
    },
    "varInspector": {
      "cols": {
        "lenName": 16,
        "lenType": 16,
        "lenVar": 40
      },
      "kernels_config": {
        "python": {
          "delete_cmd_postfix": "",
          "delete_cmd_prefix": "del ",
          "library": "var_list.py",
          "varRefreshCmd": "print(var_dic_list())"
        },
        "r": {
          "delete_cmd_postfix": ") ",
          "delete_cmd_prefix": "rm(",
          "library": "var_list.r",
          "varRefreshCmd": "cat(var_dic_list()) "
        }
      },
      "types_to_exclude": [
        "module",
        "function",
        "builtin_function_or_method",
        "instance",
        "_Feature"
      ],
      "window_display": false
    }
  },
  "nbformat": 4,
  "nbformat_minor": 2
}