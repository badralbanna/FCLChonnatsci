{
 "cells": [
  {
   "cell_type": "code",
   "execution_count": null,
   "metadata": {},
   "outputs": [],
   "source": [
    "import numpy as np\n",
    "import matplotlib.pylab as plt\n",
    "from numpy import sin, cos, tan, exp"
   ]
  },
  {
   "cell_type": "markdown",
   "metadata": {},
   "source": [
    "# Defining the variables and equations of motion"
   ]
  },
  {
   "cell_type": "code",
   "execution_count": null,
   "metadata": {},
   "outputs": [],
   "source": [
    "X_LABEL = \"x\"\n",
    "Y_LABEL = \"v\"\n",
    "\n",
    "def DXDT(x, y):\n",
    "    return(y)\n",
    "    \n",
    "def DYDT(x, y):\n",
    "    return(-x)"
   ]
  },
  {
   "cell_type": "markdown",
   "metadata": {},
   "source": [
    "# Rendering the phase portrait"
   ]
  },
  {
   "cell_type": "code",
   "execution_count": null,
   "metadata": {},
   "outputs": [],
   "source": [
    "# Setting plotting defaults \n",
    "X_MIN = -6\n",
    "X_MAX = 6\n",
    "Y_MIN = -6\n",
    "Y_MAX = 6\n",
    "RES = 0.5\n",
    "Q_SCALE = 2.0"
   ]
  },
  {
   "cell_type": "code",
   "execution_count": null,
   "metadata": {},
   "outputs": [],
   "source": [
    "# Finding critical points\n",
    "\n",
    "from scipy.optimize import fsolve\n",
    "from itertools import product\n",
    "\n",
    "## Needed for critical point solver, DO NOT CHANGE\n",
    "def DDT(arg):\n",
    "    x, y = arg\n",
    "    return(DXDT(x, y), DYDT(x, y))\n",
    "\n",
    "#\n",
    "epsilon = 0.00001\n",
    "res_c = 0.1\n",
    "\n",
    "x = np.arange(X_MIN, X_MAX, res_c)\n",
    "y = np.arange(Y_MIN, Y_MAX, res_c)\n",
    "X, Y = np.meshgrid(x, y)\n",
    "\n",
    "cp_x = []\n",
    "cp_y = []\n",
    "for x_0, y_0 in product(x, y):\n",
    "    x_c, y_c =  fsolve(DDT, (x_0, y_0))\n",
    "    if len(cp_x) == 0:\n",
    "        cp_x.append(x_c)\n",
    "        cp_y.append(y_c)\n",
    "    else:\n",
    "        d = np.sqrt((np.array(cp_x) - x_c)**2 + (np.array(cp_x) - y_c)**2)\n",
    "        if (d > epsilon).all():\n",
    "            cp_x.append(x_c)\n",
    "            cp_y.append(y_c)\n",
    "\n",
    "print(\"Critical points found at:\")            \n",
    "print([i for i in zip(cp_x,cp_y)])"
   ]
  },
  {
   "cell_type": "code",
   "execution_count": null,
   "metadata": {},
   "outputs": [],
   "source": [
    "# Creating the Grid for plotting\n",
    "x = np.arange(X_MIN, X_MAX, RES)\n",
    "y = np.arange(Y_MIN, Y_MAX, RES)\n",
    "X, Y = np.meshgrid(x, y)\n",
    "\n",
    "# Caculating the change vectors\n",
    "dxdt = Q_SCALE*DXDT(X, Y)\n",
    "dydt = Q_SCALE*DYDT(X, Y)"
   ]
  },
  {
   "cell_type": "code",
   "execution_count": null,
   "metadata": {},
   "outputs": [],
   "source": [
    "# Plotting the phase diagram\n",
    "\n",
    "fig = plt.figure(figsize=(8,8))\n",
    "ax = fig.add_subplot(1,1,1,aspect='equal')\n",
    "\n",
    "ax.axhline(0, color='.8')\n",
    "ax.axvline(0, color='.8')\n",
    "ax.scatter(cp_x, cp_y, s=100, color='blue', marker='o', facecolor='none')\n",
    "ax.quiver(x, y, dxdt, dydt, color='blue')\n",
    "\n",
    "ax.set_title(\"2D phase portrait\")\n",
    "ax.set_xlabel(X_LABEL)\n",
    "ax.set_ylabel(Y_LABEL)"
   ]
  }
 ],
 "metadata": {
  "kernelspec": {
   "display_name": "Python 3",
   "language": "python",
   "name": "python3"
  },
  "toc": {
   "base_numbering": 1,
   "nav_menu": {},
   "number_sections": true,
   "sideBar": true,
   "skip_h1_title": false,
   "title_cell": "Table of Contents",
   "title_sidebar": "Contents",
   "toc_cell": false,
   "toc_position": {},
   "toc_section_display": true,
   "toc_window_display": false
  },
  "varInspector": {
   "cols": {
    "lenName": 16,
    "lenType": 16,
    "lenVar": 40
   },
   "kernels_config": {
    "python": {
     "delete_cmd_postfix": "",
     "delete_cmd_prefix": "del ",
     "library": "var_list.py",
     "varRefreshCmd": "print(var_dic_list())"
    },
    "r": {
     "delete_cmd_postfix": ") ",
     "delete_cmd_prefix": "rm(",
     "library": "var_list.r",
     "varRefreshCmd": "cat(var_dic_list()) "
    }
   },
   "types_to_exclude": [
    "module",
    "function",
    "builtin_function_or_method",
    "instance",
    "_Feature"
   ],
   "window_display": false
  }
 },
 "nbformat": 4,
 "nbformat_minor": 2
}
